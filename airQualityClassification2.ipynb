{
 "cells": [
  {
   "cell_type": "markdown",
   "metadata": {},
   "source": [
    "\n",
    "## Fundamentals Of Machine Learning Final Assignment##\n",
    "**Ana Aali Pour Mohammadi**\n",
    "\n",
    "**Student Number:1828263**\n",
    "\n",
    "Air quality is a crucial environmental indicator that affects the health and well-being of people and ecosystems worldwide. In recent years, machine learning (ML) has emerged as a powerful tool for predicting and classifying air quality data from various sources. In this project, I aim to gather air quality data and train ML models to accurately classify air quality levels based on different parameters. The primary goals of my project are to identify the best ML model for air quality classification, and to demonstrate how this technology can be used in City planning, Environmental regulation, Health and safety, and Education and awareness initiatives. By achieving these goals, my project will help advance our understanding of air quality and contribute to creating healthier and more sustainable communities."
   ]
  },
  {
   "cell_type": "markdown",
   "metadata": {},
   "source": [
    "I took help from the following libraries to do this project:\n",
    "- pandas\n",
    "- numpy\n",
    "- requests\n",
    "- datetime\n",
    "- seaborn\n",
    "- matplotlib\n",
    "- scikit-learn"
   ]
  },
  {
   "cell_type": "code",
   "execution_count": 1,
   "metadata": {
    "id": "NC3mSWAHM6IV"
   },
   "outputs": [],
   "source": [
    "import pandas as pd\n",
    "import numpy as np\n",
    "import requests\n",
    "from datetime import datetime\n",
    "import seaborn as sns\n",
    "import matplotlib.pyplot as plt\n",
    "%matplotlib inline\n",
    "plt.rcParams['figure.figsize'] = [10, 8]\n",
    "\n",
    "import warnings\n",
    "warnings.filterwarnings(\"ignore\")"
   ]
  },
  {
   "cell_type": "code",
   "execution_count": 2,
   "metadata": {},
   "outputs": [],
   "source": [
    "sns.set_theme(style=\"darkgrid\")\n",
    "sns.set_palette(\"Paired\")"
   ]
  },
  {
   "cell_type": "markdown",
   "metadata": {},
   "source": [
    "# Dataset Gathering"
   ]
  },
  {
   "cell_type": "markdown",
   "metadata": {},
   "source": [
    "* `LATITUDE` and `LONGITUDE` represent the coordinates of a location in Minnesota (46.34936 N and -94.19837 W).\n",
    "* `START_TIME` and `END_TIME` represent the start and end dates for a time period (January 1, 2020 to December 31, 2022).\n",
    "* `START_TIME_TS` and `END_TIME_TS` represent the Unix timestamps for the start and end times, respectively."
   ]
  },
  {
   "cell_type": "code",
   "execution_count": 3,
   "metadata": {
    "id": "a6Tmuyuv16hw"
   },
   "outputs": [],
   "source": [
    "# Minnesota\n",
    "LATITUDE= 46.34936\n",
    "LONGITUDE= -94.19837\n",
    "\n",
    "START_TIME = '2020-01-01'\n",
    "END_TIME = '2022-12-31'\n",
    "START_TIME_TS = 1577836800\n",
    "END_TIME_TS = 1672527600"
   ]
  },
  {
   "cell_type": "markdown",
   "metadata": {
    "id": "N2WrKQ5IxTSG"
   },
   "source": [
    "## Air Quality API"
   ]
  },
  {
   "cell_type": "markdown",
   "metadata": {},
   "source": [
    "I used the **OpenWeatherMap** API to collect historical air quality data for the state of Minnesota from January 1st, 2020 to December 31st, 2022. This API provides access to a variety of air quality data, such as the air quality index (AQI) and pollutant concentrations. The latitude and longitude coordinates for Minnesota were used to specify the location, and the start and end times were used to define the time period of interest. The resulting DataFrame contains the time and AQI data for each hour in the specified time period"
   ]
  },
  {
   "cell_type": "code",
   "execution_count": 4,
   "metadata": {
    "id": "FxNm0mHLM6Ie"
   },
   "outputs": [],
   "source": [
    "KEY = 'f051cd3e8f12f6463f2291573f0aa169'\n",
    "\n",
    "url = f\"http://api.openweathermap.org/data/2.5/air_pollution/history?lat={LATITUDE}&lon={LONGITUDE}&start={START_TIME_TS}&end={END_TIME_TS}&appid={KEY}\"\n",
    "\n",
    "headers = {\"Accept\": \"application/json\"}\n",
    "openWeather_response = requests.get(url, headers=headers)\n",
    "\n",
    "json_openWeather = openWeather_response.json()\n",
    "json_openWeather = json_openWeather['list']\n",
    "\n",
    "ow_data = {\n",
    "    'time': [],\n",
    "    'aqi': []\n",
    "    }\n",
    "\n",
    "for i in json_openWeather:\n",
    "    ow_data['time'].append(datetime.fromtimestamp(i['dt']).strftime(\"%Y-%m-%dT%H:00\"))\n",
    "    ow_data['aqi'].append(i['main']['aqi'])\n",
    "    \n",
    "df_air_quality = pd.DataFrame(ow_data)"
   ]
  },
  {
   "cell_type": "code",
   "execution_count": 6,
   "metadata": {
    "colab": {
     "base_uri": "https://localhost:8080/",
     "height": 206
    },
    "id": "FSxGr1zB1FDQ",
    "outputId": "27d01981-c653-4a13-bec0-48b802e8b959"
   },
   "outputs": [
    {
     "data": {
      "text/html": [
       "<div>\n",
       "<style scoped>\n",
       "    .dataframe tbody tr th:only-of-type {\n",
       "        vertical-align: middle;\n",
       "    }\n",
       "\n",
       "    .dataframe tbody tr th {\n",
       "        vertical-align: top;\n",
       "    }\n",
       "\n",
       "    .dataframe thead th {\n",
       "        text-align: right;\n",
       "    }\n",
       "</style>\n",
       "<table border=\"1\" class=\"dataframe\">\n",
       "  <thead>\n",
       "    <tr style=\"text-align: right;\">\n",
       "      <th></th>\n",
       "      <th>time</th>\n",
       "      <th>aqi</th>\n",
       "    </tr>\n",
       "  </thead>\n",
       "  <tbody>\n",
       "    <tr>\n",
       "      <th>0</th>\n",
       "      <td>2020-11-25T04:00</td>\n",
       "      <td>1</td>\n",
       "    </tr>\n",
       "    <tr>\n",
       "      <th>1</th>\n",
       "      <td>2020-11-25T05:00</td>\n",
       "      <td>1</td>\n",
       "    </tr>\n",
       "    <tr>\n",
       "      <th>2</th>\n",
       "      <td>2020-11-25T06:00</td>\n",
       "      <td>1</td>\n",
       "    </tr>\n",
       "    <tr>\n",
       "      <th>3</th>\n",
       "      <td>2020-11-25T07:00</td>\n",
       "      <td>1</td>\n",
       "    </tr>\n",
       "    <tr>\n",
       "      <th>4</th>\n",
       "      <td>2020-11-25T08:00</td>\n",
       "      <td>1</td>\n",
       "    </tr>\n",
       "  </tbody>\n",
       "</table>\n",
       "</div>"
      ],
      "text/plain": [
       "               time  aqi\n",
       "0  2020-11-25T04:00    1\n",
       "1  2020-11-25T05:00    1\n",
       "2  2020-11-25T06:00    1\n",
       "3  2020-11-25T07:00    1\n",
       "4  2020-11-25T08:00    1"
      ]
     },
     "execution_count": 6,
     "metadata": {},
     "output_type": "execute_result"
    }
   ],
   "source": [
    "df_air_quality.head()"
   ]
  },
  {
   "cell_type": "code",
   "execution_count": 7,
   "metadata": {
    "colab": {
     "base_uri": "https://localhost:8080/",
     "height": 206
    },
    "id": "5g4HquPA02Kn",
    "outputId": "63ee2396-42c0-43ff-dc63-09befc665ec9"
   },
   "outputs": [
    {
     "data": {
      "text/html": [
       "<div>\n",
       "<style scoped>\n",
       "    .dataframe tbody tr th:only-of-type {\n",
       "        vertical-align: middle;\n",
       "    }\n",
       "\n",
       "    .dataframe tbody tr th {\n",
       "        vertical-align: top;\n",
       "    }\n",
       "\n",
       "    .dataframe thead th {\n",
       "        text-align: right;\n",
       "    }\n",
       "</style>\n",
       "<table border=\"1\" class=\"dataframe\">\n",
       "  <thead>\n",
       "    <tr style=\"text-align: right;\">\n",
       "      <th></th>\n",
       "      <th>time</th>\n",
       "      <th>aqi</th>\n",
       "    </tr>\n",
       "  </thead>\n",
       "  <tbody>\n",
       "    <tr>\n",
       "      <th>18210</th>\n",
       "      <td>2022-12-31T22:00</td>\n",
       "      <td>1</td>\n",
       "    </tr>\n",
       "    <tr>\n",
       "      <th>18211</th>\n",
       "      <td>2022-12-31T23:00</td>\n",
       "      <td>1</td>\n",
       "    </tr>\n",
       "    <tr>\n",
       "      <th>18212</th>\n",
       "      <td>2023-01-01T00:00</td>\n",
       "      <td>1</td>\n",
       "    </tr>\n",
       "    <tr>\n",
       "      <th>18213</th>\n",
       "      <td>2023-01-01T01:00</td>\n",
       "      <td>1</td>\n",
       "    </tr>\n",
       "    <tr>\n",
       "      <th>18214</th>\n",
       "      <td>2023-01-01T02:00</td>\n",
       "      <td>1</td>\n",
       "    </tr>\n",
       "  </tbody>\n",
       "</table>\n",
       "</div>"
      ],
      "text/plain": [
       "                   time  aqi\n",
       "18210  2022-12-31T22:00    1\n",
       "18211  2022-12-31T23:00    1\n",
       "18212  2023-01-01T00:00    1\n",
       "18213  2023-01-01T01:00    1\n",
       "18214  2023-01-01T02:00    1"
      ]
     },
     "execution_count": 7,
     "metadata": {},
     "output_type": "execute_result"
    }
   ],
   "source": [
    "df_air_quality.tail()"
   ]
  },
  {
   "cell_type": "code",
   "execution_count": 8,
   "metadata": {
    "colab": {
     "base_uri": "https://localhost:8080/",
     "height": 206
    },
    "id": "sIjDctVpM6Ij",
    "outputId": "b22da2bd-5a8e-4363-cfc8-bfc94586b81d"
   },
   "outputs": [
    {
     "data": {
      "text/html": [
       "<div>\n",
       "<style scoped>\n",
       "    .dataframe tbody tr th:only-of-type {\n",
       "        vertical-align: middle;\n",
       "    }\n",
       "\n",
       "    .dataframe tbody tr th {\n",
       "        vertical-align: top;\n",
       "    }\n",
       "\n",
       "    .dataframe thead th {\n",
       "        text-align: right;\n",
       "    }\n",
       "</style>\n",
       "<table border=\"1\" class=\"dataframe\">\n",
       "  <thead>\n",
       "    <tr style=\"text-align: right;\">\n",
       "      <th></th>\n",
       "      <th>time</th>\n",
       "      <th>aqi</th>\n",
       "    </tr>\n",
       "  </thead>\n",
       "  <tbody>\n",
       "    <tr>\n",
       "      <th>4389</th>\n",
       "      <td>2021-05-28T02:00</td>\n",
       "      <td>2</td>\n",
       "    </tr>\n",
       "    <tr>\n",
       "      <th>12447</th>\n",
       "      <td>2022-04-30T20:00</td>\n",
       "      <td>2</td>\n",
       "    </tr>\n",
       "    <tr>\n",
       "      <th>12868</th>\n",
       "      <td>2022-05-18T09:00</td>\n",
       "      <td>1</td>\n",
       "    </tr>\n",
       "    <tr>\n",
       "      <th>7958</th>\n",
       "      <td>2021-10-23T18:00</td>\n",
       "      <td>1</td>\n",
       "    </tr>\n",
       "    <tr>\n",
       "      <th>17157</th>\n",
       "      <td>2022-11-15T01:00</td>\n",
       "      <td>1</td>\n",
       "    </tr>\n",
       "  </tbody>\n",
       "</table>\n",
       "</div>"
      ],
      "text/plain": [
       "                   time  aqi\n",
       "4389   2021-05-28T02:00    2\n",
       "12447  2022-04-30T20:00    2\n",
       "12868  2022-05-18T09:00    1\n",
       "7958   2021-10-23T18:00    1\n",
       "17157  2022-11-15T01:00    1"
      ]
     },
     "execution_count": 8,
     "metadata": {},
     "output_type": "execute_result"
    }
   ],
   "source": [
    "df_air_quality.sample(5)"
   ]
  },
  {
   "cell_type": "code",
   "execution_count": 9,
   "metadata": {
    "colab": {
     "base_uri": "https://localhost:8080/"
    },
    "id": "3SaEk6flzU78",
    "outputId": "8a5c16ef-a936-4701-f66e-1d81d4c896f8"
   },
   "outputs": [
    {
     "name": "stdout",
     "output_type": "stream",
     "text": [
      "<class 'pandas.core.frame.DataFrame'>\n",
      "RangeIndex: 18215 entries, 0 to 18214\n",
      "Data columns (total 2 columns):\n",
      " #   Column  Non-Null Count  Dtype \n",
      "---  ------  --------------  ----- \n",
      " 0   time    18215 non-null  object\n",
      " 1   aqi     18215 non-null  int64 \n",
      "dtypes: int64(1), object(1)\n",
      "memory usage: 284.7+ KB\n"
     ]
    }
   ],
   "source": [
    "df_air_quality.info()"
   ]
  },
  {
   "cell_type": "code",
   "execution_count": 10,
   "metadata": {
    "colab": {
     "base_uri": "https://localhost:8080/",
     "height": 300
    },
    "id": "LKJlCjP3zO3_",
    "outputId": "a4ddff87-f69d-4a8f-e64a-3596a7fa989d"
   },
   "outputs": [
    {
     "data": {
      "text/html": [
       "<div>\n",
       "<style scoped>\n",
       "    .dataframe tbody tr th:only-of-type {\n",
       "        vertical-align: middle;\n",
       "    }\n",
       "\n",
       "    .dataframe tbody tr th {\n",
       "        vertical-align: top;\n",
       "    }\n",
       "\n",
       "    .dataframe thead th {\n",
       "        text-align: right;\n",
       "    }\n",
       "</style>\n",
       "<table border=\"1\" class=\"dataframe\">\n",
       "  <thead>\n",
       "    <tr style=\"text-align: right;\">\n",
       "      <th></th>\n",
       "      <th>aqi</th>\n",
       "    </tr>\n",
       "  </thead>\n",
       "  <tbody>\n",
       "    <tr>\n",
       "      <th>count</th>\n",
       "      <td>18215.000000</td>\n",
       "    </tr>\n",
       "    <tr>\n",
       "      <th>mean</th>\n",
       "      <td>1.256766</td>\n",
       "    </tr>\n",
       "    <tr>\n",
       "      <th>std</th>\n",
       "      <td>0.504950</td>\n",
       "    </tr>\n",
       "    <tr>\n",
       "      <th>min</th>\n",
       "      <td>1.000000</td>\n",
       "    </tr>\n",
       "    <tr>\n",
       "      <th>25%</th>\n",
       "      <td>1.000000</td>\n",
       "    </tr>\n",
       "    <tr>\n",
       "      <th>50%</th>\n",
       "      <td>1.000000</td>\n",
       "    </tr>\n",
       "    <tr>\n",
       "      <th>75%</th>\n",
       "      <td>1.000000</td>\n",
       "    </tr>\n",
       "    <tr>\n",
       "      <th>max</th>\n",
       "      <td>5.000000</td>\n",
       "    </tr>\n",
       "  </tbody>\n",
       "</table>\n",
       "</div>"
      ],
      "text/plain": [
       "                aqi\n",
       "count  18215.000000\n",
       "mean       1.256766\n",
       "std        0.504950\n",
       "min        1.000000\n",
       "25%        1.000000\n",
       "50%        1.000000\n",
       "75%        1.000000\n",
       "max        5.000000"
      ]
     },
     "execution_count": 10,
     "metadata": {},
     "output_type": "execute_result"
    }
   ],
   "source": [
    "df_air_quality.describe()\n"
   ]
  },
  {
   "cell_type": "markdown",
   "metadata": {},
   "source": [
    " it seems that the air quality in the location where the AQI measurements were taken is generally good, with most of the AQI values falling at or below 1. However, there are some records where the AQI value is higher, with the maximum value being 5."
   ]
  },
  {
   "cell_type": "code",
   "execution_count": 11,
   "metadata": {},
   "outputs": [],
   "source": [
    "df_air_quality.to_csv(\"datasets/airQuality.csv\", index=False)"
   ]
  },
  {
   "cell_type": "markdown",
   "metadata": {
    "id": "S1SWXNXpxIS-"
   },
   "source": [
    "## Weather API"
   ]
  },
  {
   "cell_type": "markdown",
   "metadata": {},
   "source": [
    "I used **Open-Meteo** API to retrieve hourly weather data for a specific location. The request includes latitude and longitude coordinates, as well as start and end dates, which define the time period for which data is requested. The API is asked to return hourly values for various meteorological parameters such as temperature, relative humidity, dewpoint, rain, snowfall, and windspeed, as well as daily values for mean temperature, apparent temperature, precipitation, and other parameters. The timezone is also specified as Europe/London and the wind speed unit is set to meters per second. I selected the hourly response to gather my dataset to predict the air quality more precisely. "
   ]
  },
  {
   "cell_type": "markdown",
   "metadata": {},
   "source": [
    "The explanation of features:\n",
    "* **temperature_2m**: the temperature at 2 meters above the ground\n",
    "\n",
    "* **relativehumidity_2m**: the relative humidity at 2 meters above the ground\n",
    "\n",
    "* **dewpoint_2m**: the dew point at 2 meters above the ground\n",
    "\n",
    "* **rain**: the amount of rainfall in mm\n",
    "\n",
    "* **snowfall**: the amount of snowfall in mm\n",
    "\n",
    "* **windspeed_10m**: the wind speed at 10 meters above the ground\n",
    "\n"
   ]
  },
  {
   "cell_type": "code",
   "execution_count": 12,
   "metadata": {
    "id": "HJnnsL1jM6Il"
   },
   "outputs": [],
   "source": [
    "main_api = \"https://archive-api.open-meteo.com/v1/archive\"\n",
    "\n",
    "\n",
    "url = f\"{main_api}?latitude={LATITUDE}&longitude={LONGITUDE}&start_date={START_TIME}&end_date={END_TIME}&hourly=temperature_2m,relativehumidity_2m,dewpoint_2m,rain,snowfall,windspeed_10m&models=best_match&daily=temperature_2m_mean,apparent_temperature_mean,precipitation_sum,rain_sum,snowfall_sum,precipitation_hours&timezone=Europe%2FLondon&windspeed_unit=ms\"\n",
    "\n",
    "headers = {\"Accept\": \"application/json\"}\n",
    "meteo_response = requests.get(url, headers=headers)\n",
    "\n",
    "json_res = meteo_response.json()\n",
    "df_hourly_weather = pd.DataFrame(json_res['hourly'])"
   ]
  },
  {
   "cell_type": "code",
   "execution_count": 14,
   "metadata": {
    "colab": {
     "base_uri": "https://localhost:8080/",
     "height": 206
    },
    "id": "-EOSut4D0sgk",
    "outputId": "d2755484-1a8a-45a9-e711-7c025ce409cd"
   },
   "outputs": [
    {
     "data": {
      "text/html": [
       "<div>\n",
       "<style scoped>\n",
       "    .dataframe tbody tr th:only-of-type {\n",
       "        vertical-align: middle;\n",
       "    }\n",
       "\n",
       "    .dataframe tbody tr th {\n",
       "        vertical-align: top;\n",
       "    }\n",
       "\n",
       "    .dataframe thead th {\n",
       "        text-align: right;\n",
       "    }\n",
       "</style>\n",
       "<table border=\"1\" class=\"dataframe\">\n",
       "  <thead>\n",
       "    <tr style=\"text-align: right;\">\n",
       "      <th></th>\n",
       "      <th>time</th>\n",
       "      <th>temperature_2m</th>\n",
       "      <th>relativehumidity_2m</th>\n",
       "      <th>dewpoint_2m</th>\n",
       "      <th>rain</th>\n",
       "      <th>snowfall</th>\n",
       "      <th>windspeed_10m</th>\n",
       "    </tr>\n",
       "  </thead>\n",
       "  <tbody>\n",
       "    <tr>\n",
       "      <th>0</th>\n",
       "      <td>2020-01-01T00:00</td>\n",
       "      <td>-9.0</td>\n",
       "      <td>81</td>\n",
       "      <td>-11.6</td>\n",
       "      <td>0.0</td>\n",
       "      <td>0.0</td>\n",
       "      <td>2.84</td>\n",
       "    </tr>\n",
       "    <tr>\n",
       "      <th>1</th>\n",
       "      <td>2020-01-01T01:00</td>\n",
       "      <td>-9.8</td>\n",
       "      <td>83</td>\n",
       "      <td>-12.1</td>\n",
       "      <td>0.0</td>\n",
       "      <td>0.0</td>\n",
       "      <td>2.96</td>\n",
       "    </tr>\n",
       "    <tr>\n",
       "      <th>2</th>\n",
       "      <td>2020-01-01T02:00</td>\n",
       "      <td>-10.5</td>\n",
       "      <td>84</td>\n",
       "      <td>-12.7</td>\n",
       "      <td>0.0</td>\n",
       "      <td>0.0</td>\n",
       "      <td>2.73</td>\n",
       "    </tr>\n",
       "    <tr>\n",
       "      <th>3</th>\n",
       "      <td>2020-01-01T03:00</td>\n",
       "      <td>-11.1</td>\n",
       "      <td>85</td>\n",
       "      <td>-13.1</td>\n",
       "      <td>0.0</td>\n",
       "      <td>0.0</td>\n",
       "      <td>2.69</td>\n",
       "    </tr>\n",
       "    <tr>\n",
       "      <th>4</th>\n",
       "      <td>2020-01-01T04:00</td>\n",
       "      <td>-11.5</td>\n",
       "      <td>85</td>\n",
       "      <td>-13.4</td>\n",
       "      <td>0.0</td>\n",
       "      <td>0.0</td>\n",
       "      <td>3.11</td>\n",
       "    </tr>\n",
       "  </tbody>\n",
       "</table>\n",
       "</div>"
      ],
      "text/plain": [
       "               time  temperature_2m  relativehumidity_2m  dewpoint_2m  rain  \\\n",
       "0  2020-01-01T00:00            -9.0                   81        -11.6   0.0   \n",
       "1  2020-01-01T01:00            -9.8                   83        -12.1   0.0   \n",
       "2  2020-01-01T02:00           -10.5                   84        -12.7   0.0   \n",
       "3  2020-01-01T03:00           -11.1                   85        -13.1   0.0   \n",
       "4  2020-01-01T04:00           -11.5                   85        -13.4   0.0   \n",
       "\n",
       "   snowfall  windspeed_10m  \n",
       "0       0.0           2.84  \n",
       "1       0.0           2.96  \n",
       "2       0.0           2.73  \n",
       "3       0.0           2.69  \n",
       "4       0.0           3.11  "
      ]
     },
     "execution_count": 14,
     "metadata": {},
     "output_type": "execute_result"
    }
   ],
   "source": [
    "df_hourly_weather.head()"
   ]
  },
  {
   "cell_type": "code",
   "execution_count": 15,
   "metadata": {
    "colab": {
     "base_uri": "https://localhost:8080/",
     "height": 206
    },
    "id": "Yp00R0a11ALw",
    "outputId": "1a2cbcd9-93aa-431c-bb2e-9806ab4d7db4"
   },
   "outputs": [
    {
     "data": {
      "text/html": [
       "<div>\n",
       "<style scoped>\n",
       "    .dataframe tbody tr th:only-of-type {\n",
       "        vertical-align: middle;\n",
       "    }\n",
       "\n",
       "    .dataframe tbody tr th {\n",
       "        vertical-align: top;\n",
       "    }\n",
       "\n",
       "    .dataframe thead th {\n",
       "        text-align: right;\n",
       "    }\n",
       "</style>\n",
       "<table border=\"1\" class=\"dataframe\">\n",
       "  <thead>\n",
       "    <tr style=\"text-align: right;\">\n",
       "      <th></th>\n",
       "      <th>time</th>\n",
       "      <th>temperature_2m</th>\n",
       "      <th>relativehumidity_2m</th>\n",
       "      <th>dewpoint_2m</th>\n",
       "      <th>rain</th>\n",
       "      <th>snowfall</th>\n",
       "      <th>windspeed_10m</th>\n",
       "    </tr>\n",
       "  </thead>\n",
       "  <tbody>\n",
       "    <tr>\n",
       "      <th>26299</th>\n",
       "      <td>2022-12-31T19:00</td>\n",
       "      <td>-5.4</td>\n",
       "      <td>81</td>\n",
       "      <td>-8.2</td>\n",
       "      <td>0.0</td>\n",
       "      <td>0.0</td>\n",
       "      <td>3.94</td>\n",
       "    </tr>\n",
       "    <tr>\n",
       "      <th>26300</th>\n",
       "      <td>2022-12-31T20:00</td>\n",
       "      <td>-3.0</td>\n",
       "      <td>82</td>\n",
       "      <td>-5.6</td>\n",
       "      <td>0.0</td>\n",
       "      <td>0.0</td>\n",
       "      <td>3.86</td>\n",
       "    </tr>\n",
       "    <tr>\n",
       "      <th>26301</th>\n",
       "      <td>2022-12-31T21:00</td>\n",
       "      <td>-1.9</td>\n",
       "      <td>82</td>\n",
       "      <td>-4.6</td>\n",
       "      <td>0.0</td>\n",
       "      <td>0.0</td>\n",
       "      <td>3.74</td>\n",
       "    </tr>\n",
       "    <tr>\n",
       "      <th>26302</th>\n",
       "      <td>2022-12-31T22:00</td>\n",
       "      <td>-1.4</td>\n",
       "      <td>84</td>\n",
       "      <td>-3.8</td>\n",
       "      <td>0.0</td>\n",
       "      <td>0.0</td>\n",
       "      <td>3.26</td>\n",
       "    </tr>\n",
       "    <tr>\n",
       "      <th>26303</th>\n",
       "      <td>2022-12-31T23:00</td>\n",
       "      <td>-1.1</td>\n",
       "      <td>86</td>\n",
       "      <td>-3.1</td>\n",
       "      <td>0.0</td>\n",
       "      <td>0.0</td>\n",
       "      <td>3.04</td>\n",
       "    </tr>\n",
       "  </tbody>\n",
       "</table>\n",
       "</div>"
      ],
      "text/plain": [
       "                   time  temperature_2m  relativehumidity_2m  dewpoint_2m  \\\n",
       "26299  2022-12-31T19:00            -5.4                   81         -8.2   \n",
       "26300  2022-12-31T20:00            -3.0                   82         -5.6   \n",
       "26301  2022-12-31T21:00            -1.9                   82         -4.6   \n",
       "26302  2022-12-31T22:00            -1.4                   84         -3.8   \n",
       "26303  2022-12-31T23:00            -1.1                   86         -3.1   \n",
       "\n",
       "       rain  snowfall  windspeed_10m  \n",
       "26299   0.0       0.0           3.94  \n",
       "26300   0.0       0.0           3.86  \n",
       "26301   0.0       0.0           3.74  \n",
       "26302   0.0       0.0           3.26  \n",
       "26303   0.0       0.0           3.04  "
      ]
     },
     "execution_count": 15,
     "metadata": {},
     "output_type": "execute_result"
    }
   ],
   "source": [
    "df_hourly_weather.tail()"
   ]
  },
  {
   "cell_type": "code",
   "execution_count": 16,
   "metadata": {
    "colab": {
     "base_uri": "https://localhost:8080/",
     "height": 206
    },
    "id": "5ZSYDu6KZhRr",
    "outputId": "a849573a-a170-40ee-8def-85e869058fc3"
   },
   "outputs": [
    {
     "data": {
      "text/html": [
       "<div>\n",
       "<style scoped>\n",
       "    .dataframe tbody tr th:only-of-type {\n",
       "        vertical-align: middle;\n",
       "    }\n",
       "\n",
       "    .dataframe tbody tr th {\n",
       "        vertical-align: top;\n",
       "    }\n",
       "\n",
       "    .dataframe thead th {\n",
       "        text-align: right;\n",
       "    }\n",
       "</style>\n",
       "<table border=\"1\" class=\"dataframe\">\n",
       "  <thead>\n",
       "    <tr style=\"text-align: right;\">\n",
       "      <th></th>\n",
       "      <th>time</th>\n",
       "      <th>temperature_2m</th>\n",
       "      <th>relativehumidity_2m</th>\n",
       "      <th>dewpoint_2m</th>\n",
       "      <th>rain</th>\n",
       "      <th>snowfall</th>\n",
       "      <th>windspeed_10m</th>\n",
       "    </tr>\n",
       "  </thead>\n",
       "  <tbody>\n",
       "    <tr>\n",
       "      <th>16008</th>\n",
       "      <td>2021-10-29T00:00</td>\n",
       "      <td>8.2</td>\n",
       "      <td>88</td>\n",
       "      <td>6.3</td>\n",
       "      <td>0.0</td>\n",
       "      <td>0.00</td>\n",
       "      <td>3.60</td>\n",
       "    </tr>\n",
       "    <tr>\n",
       "      <th>26067</th>\n",
       "      <td>2022-12-22T03:00</td>\n",
       "      <td>-21.0</td>\n",
       "      <td>75</td>\n",
       "      <td>-24.3</td>\n",
       "      <td>0.0</td>\n",
       "      <td>0.28</td>\n",
       "      <td>2.79</td>\n",
       "    </tr>\n",
       "    <tr>\n",
       "      <th>12294</th>\n",
       "      <td>2021-05-27T06:00</td>\n",
       "      <td>10.3</td>\n",
       "      <td>56</td>\n",
       "      <td>1.8</td>\n",
       "      <td>0.0</td>\n",
       "      <td>0.00</td>\n",
       "      <td>2.62</td>\n",
       "    </tr>\n",
       "    <tr>\n",
       "      <th>7891</th>\n",
       "      <td>2020-11-24T19:00</td>\n",
       "      <td>0.3</td>\n",
       "      <td>90</td>\n",
       "      <td>-1.2</td>\n",
       "      <td>0.0</td>\n",
       "      <td>0.07</td>\n",
       "      <td>4.16</td>\n",
       "    </tr>\n",
       "    <tr>\n",
       "      <th>22185</th>\n",
       "      <td>2022-07-13T09:00</td>\n",
       "      <td>17.4</td>\n",
       "      <td>93</td>\n",
       "      <td>16.3</td>\n",
       "      <td>0.0</td>\n",
       "      <td>0.00</td>\n",
       "      <td>2.28</td>\n",
       "    </tr>\n",
       "  </tbody>\n",
       "</table>\n",
       "</div>"
      ],
      "text/plain": [
       "                   time  temperature_2m  relativehumidity_2m  dewpoint_2m  \\\n",
       "16008  2021-10-29T00:00             8.2                   88          6.3   \n",
       "26067  2022-12-22T03:00           -21.0                   75        -24.3   \n",
       "12294  2021-05-27T06:00            10.3                   56          1.8   \n",
       "7891   2020-11-24T19:00             0.3                   90         -1.2   \n",
       "22185  2022-07-13T09:00            17.4                   93         16.3   \n",
       "\n",
       "       rain  snowfall  windspeed_10m  \n",
       "16008   0.0      0.00           3.60  \n",
       "26067   0.0      0.28           2.79  \n",
       "12294   0.0      0.00           2.62  \n",
       "7891    0.0      0.07           4.16  \n",
       "22185   0.0      0.00           2.28  "
      ]
     },
     "execution_count": 16,
     "metadata": {},
     "output_type": "execute_result"
    }
   ],
   "source": [
    "df_hourly_weather.sample(5)"
   ]
  },
  {
   "cell_type": "code",
   "execution_count": 17,
   "metadata": {
    "colab": {
     "base_uri": "https://localhost:8080/"
    },
    "id": "A1VMF2usZkww",
    "outputId": "dfcc8bc4-a8e3-4102-f503-9c3615ee2af9"
   },
   "outputs": [
    {
     "name": "stdout",
     "output_type": "stream",
     "text": [
      "<class 'pandas.core.frame.DataFrame'>\n",
      "RangeIndex: 26304 entries, 0 to 26303\n",
      "Data columns (total 7 columns):\n",
      " #   Column               Non-Null Count  Dtype  \n",
      "---  ------               --------------  -----  \n",
      " 0   time                 26304 non-null  object \n",
      " 1   temperature_2m       26304 non-null  float64\n",
      " 2   relativehumidity_2m  26304 non-null  int64  \n",
      " 3   dewpoint_2m          26304 non-null  float64\n",
      " 4   rain                 26304 non-null  float64\n",
      " 5   snowfall             26304 non-null  float64\n",
      " 6   windspeed_10m        26304 non-null  float64\n",
      "dtypes: float64(5), int64(1), object(1)\n",
      "memory usage: 1.4+ MB\n"
     ]
    }
   ],
   "source": [
    "df_hourly_weather.info()"
   ]
  },
  {
   "cell_type": "code",
   "execution_count": 18,
   "metadata": {
    "colab": {
     "base_uri": "https://localhost:8080/",
     "height": 300
    },
    "id": "aXtzsdv1ZjcM",
    "outputId": "19afe592-eb35-44b4-fd29-63f4cc9acdd6"
   },
   "outputs": [
    {
     "data": {
      "text/html": [
       "<div>\n",
       "<style scoped>\n",
       "    .dataframe tbody tr th:only-of-type {\n",
       "        vertical-align: middle;\n",
       "    }\n",
       "\n",
       "    .dataframe tbody tr th {\n",
       "        vertical-align: top;\n",
       "    }\n",
       "\n",
       "    .dataframe thead th {\n",
       "        text-align: right;\n",
       "    }\n",
       "</style>\n",
       "<table border=\"1\" class=\"dataframe\">\n",
       "  <thead>\n",
       "    <tr style=\"text-align: right;\">\n",
       "      <th></th>\n",
       "      <th>temperature_2m</th>\n",
       "      <th>relativehumidity_2m</th>\n",
       "      <th>dewpoint_2m</th>\n",
       "      <th>rain</th>\n",
       "      <th>snowfall</th>\n",
       "      <th>windspeed_10m</th>\n",
       "    </tr>\n",
       "  </thead>\n",
       "  <tbody>\n",
       "    <tr>\n",
       "      <th>count</th>\n",
       "      <td>26304.000000</td>\n",
       "      <td>26304.000000</td>\n",
       "      <td>26304.000000</td>\n",
       "      <td>26304.000000</td>\n",
       "      <td>26304.000000</td>\n",
       "      <td>26304.000000</td>\n",
       "    </tr>\n",
       "    <tr>\n",
       "      <th>mean</th>\n",
       "      <td>6.592822</td>\n",
       "      <td>69.041781</td>\n",
       "      <td>0.818115</td>\n",
       "      <td>0.062363</td>\n",
       "      <td>0.010666</td>\n",
       "      <td>3.779063</td>\n",
       "    </tr>\n",
       "    <tr>\n",
       "      <th>std</th>\n",
       "      <td>13.534878</td>\n",
       "      <td>15.914595</td>\n",
       "      <td>12.316901</td>\n",
       "      <td>0.415649</td>\n",
       "      <td>0.073556</td>\n",
       "      <td>1.724292</td>\n",
       "    </tr>\n",
       "    <tr>\n",
       "      <th>min</th>\n",
       "      <td>-34.200000</td>\n",
       "      <td>19.000000</td>\n",
       "      <td>-37.300000</td>\n",
       "      <td>0.000000</td>\n",
       "      <td>0.000000</td>\n",
       "      <td>0.000000</td>\n",
       "    </tr>\n",
       "    <tr>\n",
       "      <th>25%</th>\n",
       "      <td>-2.900000</td>\n",
       "      <td>58.000000</td>\n",
       "      <td>-7.500000</td>\n",
       "      <td>0.000000</td>\n",
       "      <td>0.000000</td>\n",
       "      <td>2.480000</td>\n",
       "    </tr>\n",
       "    <tr>\n",
       "      <th>50%</th>\n",
       "      <td>6.600000</td>\n",
       "      <td>71.000000</td>\n",
       "      <td>0.700000</td>\n",
       "      <td>0.000000</td>\n",
       "      <td>0.000000</td>\n",
       "      <td>3.600000</td>\n",
       "    </tr>\n",
       "    <tr>\n",
       "      <th>75%</th>\n",
       "      <td>18.500000</td>\n",
       "      <td>82.000000</td>\n",
       "      <td>11.600000</td>\n",
       "      <td>0.000000</td>\n",
       "      <td>0.000000</td>\n",
       "      <td>4.880000</td>\n",
       "    </tr>\n",
       "    <tr>\n",
       "      <th>max</th>\n",
       "      <td>33.900000</td>\n",
       "      <td>100.000000</td>\n",
       "      <td>24.000000</td>\n",
       "      <td>13.200000</td>\n",
       "      <td>1.890000</td>\n",
       "      <td>12.640000</td>\n",
       "    </tr>\n",
       "  </tbody>\n",
       "</table>\n",
       "</div>"
      ],
      "text/plain": [
       "       temperature_2m  relativehumidity_2m   dewpoint_2m          rain  \\\n",
       "count    26304.000000         26304.000000  26304.000000  26304.000000   \n",
       "mean         6.592822            69.041781      0.818115      0.062363   \n",
       "std         13.534878            15.914595     12.316901      0.415649   \n",
       "min        -34.200000            19.000000    -37.300000      0.000000   \n",
       "25%         -2.900000            58.000000     -7.500000      0.000000   \n",
       "50%          6.600000            71.000000      0.700000      0.000000   \n",
       "75%         18.500000            82.000000     11.600000      0.000000   \n",
       "max         33.900000           100.000000     24.000000     13.200000   \n",
       "\n",
       "           snowfall  windspeed_10m  \n",
       "count  26304.000000   26304.000000  \n",
       "mean       0.010666       3.779063  \n",
       "std        0.073556       1.724292  \n",
       "min        0.000000       0.000000  \n",
       "25%        0.000000       2.480000  \n",
       "50%        0.000000       3.600000  \n",
       "75%        0.000000       4.880000  \n",
       "max        1.890000      12.640000  "
      ]
     },
     "execution_count": 18,
     "metadata": {},
     "output_type": "execute_result"
    }
   ],
   "source": [
    "df_hourly_weather.describe()"
   ]
  },
  {
   "cell_type": "markdown",
   "metadata": {},
   "source": [
    "The mean temperature of 6.592822 degrees Celsius suggests that Minnesota has a relatively cool climate. The mean relative humidity of 69.041781% indicates that the air in the location is generally moist. The mean dew point of 0.818115 degrees Celsius suggests that there may be some condensation present in the air.\n",
    "The average rainfall of 0.062363 millimeters and the average snowfall of 0.010666 millimeters suggest that Minnesota may receive low to moderate amounts of precipitation. The mean wind speed of 3.779063 meters per second indicates that there may be some mild to moderate wind in the area."
   ]
  },
  {
   "cell_type": "code",
   "execution_count": 19,
   "metadata": {
    "id": "MFW1EJdTy9OM"
   },
   "outputs": [],
   "source": [
    "df_hourly_weather.to_csv(\"datasets/weather.csv\", index=False)"
   ]
  },
  {
   "cell_type": "markdown",
   "metadata": {
    "id": "ICzcRMYrBZTQ"
   },
   "source": [
    "## Traffic data"
   ]
  },
  {
   "cell_type": "markdown",
   "metadata": {},
   "source": [
    "Thanks to Minnesota Department of Transportation - MnDOT (state.mn.us), I was able to discover an excellent traffic dataset that has been archived by year. This dataset could prove highly valuable for my machine learning project, as it could help me predict traffic patterns and traffic density.\n",
    "\n",
    "[Minnesota Department of Transportation - MnDOT (state.mn.us)](https://www.dot.state.mn.us/index.html)\n",
    "\n",
    "I compiled a comprehensive traffic dataset by concatenating the data from 2020 to 2022. However, in order to utilize hourly traffic density data, I need to restructure the dataset accordingly"
   ]
  },
  {
   "cell_type": "code",
   "execution_count": 20,
   "metadata": {
    "id": "UcBVToArBiY6"
   },
   "outputs": [],
   "source": [
    "traffic_data_2020 = pd.read_csv(\"datasets/traffic_vol_2020.csv\")\n",
    "traffic_data_2021 = pd.read_csv(\"datasets/traffic_vol_2021.csv\")\n",
    "traffic_data_2022 = pd.read_csv(\"datasets/traffic_vol_2022.csv\")"
   ]
  },
  {
   "cell_type": "code",
   "execution_count": 21,
   "metadata": {},
   "outputs": [
    {
     "data": {
      "text/html": [
       "<div>\n",
       "<style scoped>\n",
       "    .dataframe tbody tr th:only-of-type {\n",
       "        vertical-align: middle;\n",
       "    }\n",
       "\n",
       "    .dataframe tbody tr th {\n",
       "        vertical-align: top;\n",
       "    }\n",
       "\n",
       "    .dataframe thead th {\n",
       "        text-align: right;\n",
       "    }\n",
       "</style>\n",
       "<table border=\"1\" class=\"dataframe\">\n",
       "  <thead>\n",
       "    <tr style=\"text-align: right;\">\n",
       "      <th></th>\n",
       "      <th>station_id</th>\n",
       "      <th>dir_of_travel</th>\n",
       "      <th>lane_of_travel</th>\n",
       "      <th>date</th>\n",
       "      <th>1</th>\n",
       "      <th>2</th>\n",
       "      <th>3</th>\n",
       "      <th>4</th>\n",
       "      <th>5</th>\n",
       "      <th>6</th>\n",
       "      <th>...</th>\n",
       "      <th>15</th>\n",
       "      <th>16</th>\n",
       "      <th>17</th>\n",
       "      <th>18</th>\n",
       "      <th>19</th>\n",
       "      <th>20</th>\n",
       "      <th>21</th>\n",
       "      <th>22</th>\n",
       "      <th>23</th>\n",
       "      <th>24</th>\n",
       "    </tr>\n",
       "  </thead>\n",
       "  <tbody>\n",
       "    <tr>\n",
       "      <th>0</th>\n",
       "      <td>26</td>\n",
       "      <td>1</td>\n",
       "      <td>1</td>\n",
       "      <td>2020-01-01</td>\n",
       "      <td>55</td>\n",
       "      <td>63</td>\n",
       "      <td>43</td>\n",
       "      <td>40</td>\n",
       "      <td>35</td>\n",
       "      <td>57</td>\n",
       "      <td>...</td>\n",
       "      <td>487</td>\n",
       "      <td>458</td>\n",
       "      <td>466</td>\n",
       "      <td>372</td>\n",
       "      <td>330</td>\n",
       "      <td>272</td>\n",
       "      <td>209</td>\n",
       "      <td>153</td>\n",
       "      <td>114</td>\n",
       "      <td>86</td>\n",
       "    </tr>\n",
       "    <tr>\n",
       "      <th>1</th>\n",
       "      <td>26</td>\n",
       "      <td>1</td>\n",
       "      <td>2</td>\n",
       "      <td>2020-01-01</td>\n",
       "      <td>3</td>\n",
       "      <td>7</td>\n",
       "      <td>3</td>\n",
       "      <td>7</td>\n",
       "      <td>5</td>\n",
       "      <td>7</td>\n",
       "      <td>...</td>\n",
       "      <td>198</td>\n",
       "      <td>195</td>\n",
       "      <td>220</td>\n",
       "      <td>133</td>\n",
       "      <td>95</td>\n",
       "      <td>85</td>\n",
       "      <td>54</td>\n",
       "      <td>28</td>\n",
       "      <td>22</td>\n",
       "      <td>15</td>\n",
       "    </tr>\n",
       "    <tr>\n",
       "      <th>2</th>\n",
       "      <td>26</td>\n",
       "      <td>5</td>\n",
       "      <td>1</td>\n",
       "      <td>2020-01-01</td>\n",
       "      <td>59</td>\n",
       "      <td>54</td>\n",
       "      <td>39</td>\n",
       "      <td>52</td>\n",
       "      <td>45</td>\n",
       "      <td>63</td>\n",
       "      <td>...</td>\n",
       "      <td>469</td>\n",
       "      <td>430</td>\n",
       "      <td>434</td>\n",
       "      <td>361</td>\n",
       "      <td>312</td>\n",
       "      <td>229</td>\n",
       "      <td>190</td>\n",
       "      <td>145</td>\n",
       "      <td>70</td>\n",
       "      <td>49</td>\n",
       "    </tr>\n",
       "    <tr>\n",
       "      <th>3</th>\n",
       "      <td>26</td>\n",
       "      <td>5</td>\n",
       "      <td>2</td>\n",
       "      <td>2020-01-01</td>\n",
       "      <td>8</td>\n",
       "      <td>2</td>\n",
       "      <td>3</td>\n",
       "      <td>5</td>\n",
       "      <td>5</td>\n",
       "      <td>4</td>\n",
       "      <td>...</td>\n",
       "      <td>207</td>\n",
       "      <td>204</td>\n",
       "      <td>195</td>\n",
       "      <td>146</td>\n",
       "      <td>109</td>\n",
       "      <td>79</td>\n",
       "      <td>37</td>\n",
       "      <td>21</td>\n",
       "      <td>15</td>\n",
       "      <td>7</td>\n",
       "    </tr>\n",
       "    <tr>\n",
       "      <th>4</th>\n",
       "      <td>26</td>\n",
       "      <td>1</td>\n",
       "      <td>1</td>\n",
       "      <td>2020-01-02</td>\n",
       "      <td>66</td>\n",
       "      <td>49</td>\n",
       "      <td>62</td>\n",
       "      <td>71</td>\n",
       "      <td>131</td>\n",
       "      <td>209</td>\n",
       "      <td>...</td>\n",
       "      <td>460</td>\n",
       "      <td>465</td>\n",
       "      <td>424</td>\n",
       "      <td>392</td>\n",
       "      <td>312</td>\n",
       "      <td>218</td>\n",
       "      <td>196</td>\n",
       "      <td>192</td>\n",
       "      <td>159</td>\n",
       "      <td>102</td>\n",
       "    </tr>\n",
       "  </tbody>\n",
       "</table>\n",
       "<p>5 rows × 28 columns</p>\n",
       "</div>"
      ],
      "text/plain": [
       "   station_id  dir_of_travel  lane_of_travel        date   1   2   3   4    5  \\\n",
       "0          26              1               1  2020-01-01  55  63  43  40   35   \n",
       "1          26              1               2  2020-01-01   3   7   3   7    5   \n",
       "2          26              5               1  2020-01-01  59  54  39  52   45   \n",
       "3          26              5               2  2020-01-01   8   2   3   5    5   \n",
       "4          26              1               1  2020-01-02  66  49  62  71  131   \n",
       "\n",
       "     6  ...   15   16   17   18   19   20   21   22   23   24  \n",
       "0   57  ...  487  458  466  372  330  272  209  153  114   86  \n",
       "1    7  ...  198  195  220  133   95   85   54   28   22   15  \n",
       "2   63  ...  469  430  434  361  312  229  190  145   70   49  \n",
       "3    4  ...  207  204  195  146  109   79   37   21   15    7  \n",
       "4  209  ...  460  465  424  392  312  218  196  192  159  102  \n",
       "\n",
       "[5 rows x 28 columns]"
      ]
     },
     "execution_count": 21,
     "metadata": {},
     "output_type": "execute_result"
    }
   ],
   "source": [
    "traffic_data_2020.head()"
   ]
  },
  {
   "cell_type": "code",
   "execution_count": 22,
   "metadata": {},
   "outputs": [
    {
     "data": {
      "text/html": [
       "<div>\n",
       "<style scoped>\n",
       "    .dataframe tbody tr th:only-of-type {\n",
       "        vertical-align: middle;\n",
       "    }\n",
       "\n",
       "    .dataframe tbody tr th {\n",
       "        vertical-align: top;\n",
       "    }\n",
       "\n",
       "    .dataframe thead th {\n",
       "        text-align: right;\n",
       "    }\n",
       "</style>\n",
       "<table border=\"1\" class=\"dataframe\">\n",
       "  <thead>\n",
       "    <tr style=\"text-align: right;\">\n",
       "      <th></th>\n",
       "      <th>station_id</th>\n",
       "      <th>dir_of_travel</th>\n",
       "      <th>lane_of_travel</th>\n",
       "      <th>date</th>\n",
       "      <th>1</th>\n",
       "      <th>2</th>\n",
       "      <th>3</th>\n",
       "      <th>4</th>\n",
       "      <th>5</th>\n",
       "      <th>6</th>\n",
       "      <th>...</th>\n",
       "      <th>15</th>\n",
       "      <th>16</th>\n",
       "      <th>17</th>\n",
       "      <th>18</th>\n",
       "      <th>19</th>\n",
       "      <th>20</th>\n",
       "      <th>21</th>\n",
       "      <th>22</th>\n",
       "      <th>23</th>\n",
       "      <th>24</th>\n",
       "    </tr>\n",
       "  </thead>\n",
       "  <tbody>\n",
       "    <tr>\n",
       "      <th>0</th>\n",
       "      <td>26</td>\n",
       "      <td>1</td>\n",
       "      <td>1</td>\n",
       "      <td>1/1/2021</td>\n",
       "      <td>88</td>\n",
       "      <td>75</td>\n",
       "      <td>50</td>\n",
       "      <td>50</td>\n",
       "      <td>62</td>\n",
       "      <td>55</td>\n",
       "      <td>...</td>\n",
       "      <td>354</td>\n",
       "      <td>304</td>\n",
       "      <td>331</td>\n",
       "      <td>320</td>\n",
       "      <td>245</td>\n",
       "      <td>200</td>\n",
       "      <td>188</td>\n",
       "      <td>138</td>\n",
       "      <td>136</td>\n",
       "      <td>86</td>\n",
       "    </tr>\n",
       "    <tr>\n",
       "      <th>1</th>\n",
       "      <td>26</td>\n",
       "      <td>1</td>\n",
       "      <td>2</td>\n",
       "      <td>1/1/2021</td>\n",
       "      <td>9</td>\n",
       "      <td>11</td>\n",
       "      <td>7</td>\n",
       "      <td>3</td>\n",
       "      <td>9</td>\n",
       "      <td>3</td>\n",
       "      <td>...</td>\n",
       "      <td>105</td>\n",
       "      <td>112</td>\n",
       "      <td>116</td>\n",
       "      <td>95</td>\n",
       "      <td>72</td>\n",
       "      <td>55</td>\n",
       "      <td>51</td>\n",
       "      <td>31</td>\n",
       "      <td>25</td>\n",
       "      <td>18</td>\n",
       "    </tr>\n",
       "    <tr>\n",
       "      <th>2</th>\n",
       "      <td>26</td>\n",
       "      <td>5</td>\n",
       "      <td>1</td>\n",
       "      <td>1/1/2021</td>\n",
       "      <td>58</td>\n",
       "      <td>39</td>\n",
       "      <td>46</td>\n",
       "      <td>28</td>\n",
       "      <td>50</td>\n",
       "      <td>68</td>\n",
       "      <td>...</td>\n",
       "      <td>373</td>\n",
       "      <td>361</td>\n",
       "      <td>296</td>\n",
       "      <td>270</td>\n",
       "      <td>217</td>\n",
       "      <td>169</td>\n",
       "      <td>145</td>\n",
       "      <td>108</td>\n",
       "      <td>94</td>\n",
       "      <td>66</td>\n",
       "    </tr>\n",
       "    <tr>\n",
       "      <th>3</th>\n",
       "      <td>26</td>\n",
       "      <td>5</td>\n",
       "      <td>2</td>\n",
       "      <td>1/1/2021</td>\n",
       "      <td>8</td>\n",
       "      <td>2</td>\n",
       "      <td>4</td>\n",
       "      <td>1</td>\n",
       "      <td>7</td>\n",
       "      <td>7</td>\n",
       "      <td>...</td>\n",
       "      <td>118</td>\n",
       "      <td>139</td>\n",
       "      <td>102</td>\n",
       "      <td>66</td>\n",
       "      <td>61</td>\n",
       "      <td>41</td>\n",
       "      <td>41</td>\n",
       "      <td>17</td>\n",
       "      <td>9</td>\n",
       "      <td>4</td>\n",
       "    </tr>\n",
       "    <tr>\n",
       "      <th>4</th>\n",
       "      <td>26</td>\n",
       "      <td>1</td>\n",
       "      <td>1</td>\n",
       "      <td>1/2/2021</td>\n",
       "      <td>67</td>\n",
       "      <td>42</td>\n",
       "      <td>43</td>\n",
       "      <td>51</td>\n",
       "      <td>59</td>\n",
       "      <td>86</td>\n",
       "      <td>...</td>\n",
       "      <td>483</td>\n",
       "      <td>551</td>\n",
       "      <td>498</td>\n",
       "      <td>446</td>\n",
       "      <td>370</td>\n",
       "      <td>320</td>\n",
       "      <td>254</td>\n",
       "      <td>200</td>\n",
       "      <td>155</td>\n",
       "      <td>120</td>\n",
       "    </tr>\n",
       "  </tbody>\n",
       "</table>\n",
       "<p>5 rows × 28 columns</p>\n",
       "</div>"
      ],
      "text/plain": [
       "   station_id  dir_of_travel  lane_of_travel      date   1   2   3   4   5  \\\n",
       "0          26              1               1  1/1/2021  88  75  50  50  62   \n",
       "1          26              1               2  1/1/2021   9  11   7   3   9   \n",
       "2          26              5               1  1/1/2021  58  39  46  28  50   \n",
       "3          26              5               2  1/1/2021   8   2   4   1   7   \n",
       "4          26              1               1  1/2/2021  67  42  43  51  59   \n",
       "\n",
       "    6  ...   15   16   17   18   19   20   21   22   23   24  \n",
       "0  55  ...  354  304  331  320  245  200  188  138  136   86  \n",
       "1   3  ...  105  112  116   95   72   55   51   31   25   18  \n",
       "2  68  ...  373  361  296  270  217  169  145  108   94   66  \n",
       "3   7  ...  118  139  102   66   61   41   41   17    9    4  \n",
       "4  86  ...  483  551  498  446  370  320  254  200  155  120  \n",
       "\n",
       "[5 rows x 28 columns]"
      ]
     },
     "execution_count": 22,
     "metadata": {},
     "output_type": "execute_result"
    }
   ],
   "source": [
    "traffic_data_2021.head()"
   ]
  },
  {
   "cell_type": "code",
   "execution_count": 23,
   "metadata": {},
   "outputs": [
    {
     "data": {
      "text/html": [
       "<div>\n",
       "<style scoped>\n",
       "    .dataframe tbody tr th:only-of-type {\n",
       "        vertical-align: middle;\n",
       "    }\n",
       "\n",
       "    .dataframe tbody tr th {\n",
       "        vertical-align: top;\n",
       "    }\n",
       "\n",
       "    .dataframe thead th {\n",
       "        text-align: right;\n",
       "    }\n",
       "</style>\n",
       "<table border=\"1\" class=\"dataframe\">\n",
       "  <thead>\n",
       "    <tr style=\"text-align: right;\">\n",
       "      <th></th>\n",
       "      <th>station_id</th>\n",
       "      <th>dir_of_travel</th>\n",
       "      <th>lane_of_travel</th>\n",
       "      <th>date</th>\n",
       "      <th>1</th>\n",
       "      <th>2</th>\n",
       "      <th>3</th>\n",
       "      <th>4</th>\n",
       "      <th>5</th>\n",
       "      <th>6</th>\n",
       "      <th>...</th>\n",
       "      <th>15</th>\n",
       "      <th>16</th>\n",
       "      <th>17</th>\n",
       "      <th>18</th>\n",
       "      <th>19</th>\n",
       "      <th>20</th>\n",
       "      <th>21</th>\n",
       "      <th>22</th>\n",
       "      <th>23</th>\n",
       "      <th>24</th>\n",
       "    </tr>\n",
       "  </thead>\n",
       "  <tbody>\n",
       "    <tr>\n",
       "      <th>0</th>\n",
       "      <td>26</td>\n",
       "      <td>1</td>\n",
       "      <td>1</td>\n",
       "      <td>2022-01-01</td>\n",
       "      <td>71</td>\n",
       "      <td>77</td>\n",
       "      <td>63</td>\n",
       "      <td>60</td>\n",
       "      <td>52</td>\n",
       "      <td>52</td>\n",
       "      <td>...</td>\n",
       "      <td>319</td>\n",
       "      <td>269</td>\n",
       "      <td>300</td>\n",
       "      <td>243</td>\n",
       "      <td>239</td>\n",
       "      <td>175</td>\n",
       "      <td>138</td>\n",
       "      <td>138</td>\n",
       "      <td>119</td>\n",
       "      <td>89</td>\n",
       "    </tr>\n",
       "    <tr>\n",
       "      <th>1</th>\n",
       "      <td>26</td>\n",
       "      <td>1</td>\n",
       "      <td>2</td>\n",
       "      <td>2022-01-01</td>\n",
       "      <td>9</td>\n",
       "      <td>9</td>\n",
       "      <td>6</td>\n",
       "      <td>12</td>\n",
       "      <td>4</td>\n",
       "      <td>4</td>\n",
       "      <td>...</td>\n",
       "      <td>100</td>\n",
       "      <td>61</td>\n",
       "      <td>94</td>\n",
       "      <td>59</td>\n",
       "      <td>59</td>\n",
       "      <td>35</td>\n",
       "      <td>38</td>\n",
       "      <td>31</td>\n",
       "      <td>15</td>\n",
       "      <td>12</td>\n",
       "    </tr>\n",
       "    <tr>\n",
       "      <th>2</th>\n",
       "      <td>26</td>\n",
       "      <td>5</td>\n",
       "      <td>1</td>\n",
       "      <td>2022-01-01</td>\n",
       "      <td>57</td>\n",
       "      <td>51</td>\n",
       "      <td>33</td>\n",
       "      <td>26</td>\n",
       "      <td>39</td>\n",
       "      <td>62</td>\n",
       "      <td>...</td>\n",
       "      <td>351</td>\n",
       "      <td>323</td>\n",
       "      <td>302</td>\n",
       "      <td>249</td>\n",
       "      <td>227</td>\n",
       "      <td>179</td>\n",
       "      <td>134</td>\n",
       "      <td>119</td>\n",
       "      <td>123</td>\n",
       "      <td>79</td>\n",
       "    </tr>\n",
       "    <tr>\n",
       "      <th>3</th>\n",
       "      <td>26</td>\n",
       "      <td>5</td>\n",
       "      <td>2</td>\n",
       "      <td>2022-01-01</td>\n",
       "      <td>7</td>\n",
       "      <td>10</td>\n",
       "      <td>4</td>\n",
       "      <td>6</td>\n",
       "      <td>6</td>\n",
       "      <td>8</td>\n",
       "      <td>...</td>\n",
       "      <td>111</td>\n",
       "      <td>92</td>\n",
       "      <td>92</td>\n",
       "      <td>68</td>\n",
       "      <td>58</td>\n",
       "      <td>38</td>\n",
       "      <td>24</td>\n",
       "      <td>18</td>\n",
       "      <td>16</td>\n",
       "      <td>13</td>\n",
       "    </tr>\n",
       "    <tr>\n",
       "      <th>4</th>\n",
       "      <td>26</td>\n",
       "      <td>1</td>\n",
       "      <td>1</td>\n",
       "      <td>2022-01-02</td>\n",
       "      <td>71</td>\n",
       "      <td>56</td>\n",
       "      <td>34</td>\n",
       "      <td>41</td>\n",
       "      <td>48</td>\n",
       "      <td>67</td>\n",
       "      <td>...</td>\n",
       "      <td>643</td>\n",
       "      <td>646</td>\n",
       "      <td>596</td>\n",
       "      <td>548</td>\n",
       "      <td>419</td>\n",
       "      <td>350</td>\n",
       "      <td>272</td>\n",
       "      <td>202</td>\n",
       "      <td>140</td>\n",
       "      <td>111</td>\n",
       "    </tr>\n",
       "  </tbody>\n",
       "</table>\n",
       "<p>5 rows × 28 columns</p>\n",
       "</div>"
      ],
      "text/plain": [
       "   station_id  dir_of_travel  lane_of_travel        date   1   2   3   4   5  \\\n",
       "0          26              1               1  2022-01-01  71  77  63  60  52   \n",
       "1          26              1               2  2022-01-01   9   9   6  12   4   \n",
       "2          26              5               1  2022-01-01  57  51  33  26  39   \n",
       "3          26              5               2  2022-01-01   7  10   4   6   6   \n",
       "4          26              1               1  2022-01-02  71  56  34  41  48   \n",
       "\n",
       "    6  ...   15   16   17   18   19   20   21   22   23   24  \n",
       "0  52  ...  319  269  300  243  239  175  138  138  119   89  \n",
       "1   4  ...  100   61   94   59   59   35   38   31   15   12  \n",
       "2  62  ...  351  323  302  249  227  179  134  119  123   79  \n",
       "3   8  ...  111   92   92   68   58   38   24   18   16   13  \n",
       "4  67  ...  643  646  596  548  419  350  272  202  140  111  \n",
       "\n",
       "[5 rows x 28 columns]"
      ]
     },
     "execution_count": 23,
     "metadata": {},
     "output_type": "execute_result"
    }
   ],
   "source": [
    "traffic_data_2022.head()"
   ]
  },
  {
   "cell_type": "code",
   "execution_count": 24,
   "metadata": {},
   "outputs": [],
   "source": [
    "traffic_df = pd.concat([traffic_data_2020, traffic_data_2021, traffic_data_2022])"
   ]
  },
  {
   "cell_type": "code",
   "execution_count": 25,
   "metadata": {},
   "outputs": [
    {
     "data": {
      "text/html": [
       "<div>\n",
       "<style scoped>\n",
       "    .dataframe tbody tr th:only-of-type {\n",
       "        vertical-align: middle;\n",
       "    }\n",
       "\n",
       "    .dataframe tbody tr th {\n",
       "        vertical-align: top;\n",
       "    }\n",
       "\n",
       "    .dataframe thead th {\n",
       "        text-align: right;\n",
       "    }\n",
       "</style>\n",
       "<table border=\"1\" class=\"dataframe\">\n",
       "  <thead>\n",
       "    <tr style=\"text-align: right;\">\n",
       "      <th></th>\n",
       "      <th>station_id</th>\n",
       "      <th>dir_of_travel</th>\n",
       "      <th>lane_of_travel</th>\n",
       "      <th>date</th>\n",
       "      <th>1</th>\n",
       "      <th>2</th>\n",
       "      <th>3</th>\n",
       "      <th>4</th>\n",
       "      <th>5</th>\n",
       "      <th>6</th>\n",
       "      <th>...</th>\n",
       "      <th>15</th>\n",
       "      <th>16</th>\n",
       "      <th>17</th>\n",
       "      <th>18</th>\n",
       "      <th>19</th>\n",
       "      <th>20</th>\n",
       "      <th>21</th>\n",
       "      <th>22</th>\n",
       "      <th>23</th>\n",
       "      <th>24</th>\n",
       "    </tr>\n",
       "  </thead>\n",
       "  <tbody>\n",
       "    <tr>\n",
       "      <th>9924</th>\n",
       "      <td>43</td>\n",
       "      <td>3</td>\n",
       "      <td>1</td>\n",
       "      <td>2/17/2021</td>\n",
       "      <td>26</td>\n",
       "      <td>17</td>\n",
       "      <td>13</td>\n",
       "      <td>24</td>\n",
       "      <td>34</td>\n",
       "      <td>78</td>\n",
       "      <td>...</td>\n",
       "      <td>371</td>\n",
       "      <td>437</td>\n",
       "      <td>526</td>\n",
       "      <td>623</td>\n",
       "      <td>337</td>\n",
       "      <td>234</td>\n",
       "      <td>169</td>\n",
       "      <td>124</td>\n",
       "      <td>69</td>\n",
       "      <td>45</td>\n",
       "    </tr>\n",
       "    <tr>\n",
       "      <th>151966</th>\n",
       "      <td>11202</td>\n",
       "      <td>3</td>\n",
       "      <td>2</td>\n",
       "      <td>2022-03-10</td>\n",
       "      <td>53</td>\n",
       "      <td>38</td>\n",
       "      <td>38</td>\n",
       "      <td>49</td>\n",
       "      <td>97</td>\n",
       "      <td>321</td>\n",
       "      <td>...</td>\n",
       "      <td>1640</td>\n",
       "      <td>1800</td>\n",
       "      <td>1637</td>\n",
       "      <td>1652</td>\n",
       "      <td>1251</td>\n",
       "      <td>717</td>\n",
       "      <td>648</td>\n",
       "      <td>477</td>\n",
       "      <td>304</td>\n",
       "      <td>173</td>\n",
       "    </tr>\n",
       "    <tr>\n",
       "      <th>47388</th>\n",
       "      <td>309</td>\n",
       "      <td>1</td>\n",
       "      <td>3</td>\n",
       "      <td>2022-11-15</td>\n",
       "      <td>10</td>\n",
       "      <td>4</td>\n",
       "      <td>4</td>\n",
       "      <td>4</td>\n",
       "      <td>19</td>\n",
       "      <td>99</td>\n",
       "      <td>...</td>\n",
       "      <td>344</td>\n",
       "      <td>461</td>\n",
       "      <td>606</td>\n",
       "      <td>539</td>\n",
       "      <td>210</td>\n",
       "      <td>132</td>\n",
       "      <td>115</td>\n",
       "      <td>92</td>\n",
       "      <td>56</td>\n",
       "      <td>22</td>\n",
       "    </tr>\n",
       "    <tr>\n",
       "      <th>124977</th>\n",
       "      <td>11273</td>\n",
       "      <td>1</td>\n",
       "      <td>4</td>\n",
       "      <td>11/8/2021</td>\n",
       "      <td>14</td>\n",
       "      <td>2</td>\n",
       "      <td>0</td>\n",
       "      <td>0</td>\n",
       "      <td>43</td>\n",
       "      <td>145</td>\n",
       "      <td>...</td>\n",
       "      <td>673</td>\n",
       "      <td>679</td>\n",
       "      <td>765</td>\n",
       "      <td>566</td>\n",
       "      <td>221</td>\n",
       "      <td>162</td>\n",
       "      <td>130</td>\n",
       "      <td>83</td>\n",
       "      <td>10</td>\n",
       "      <td>13</td>\n",
       "    </tr>\n",
       "    <tr>\n",
       "      <th>70534</th>\n",
       "      <td>3467</td>\n",
       "      <td>3</td>\n",
       "      <td>1</td>\n",
       "      <td>2/23/2021</td>\n",
       "      <td>48</td>\n",
       "      <td>32</td>\n",
       "      <td>24</td>\n",
       "      <td>22</td>\n",
       "      <td>28</td>\n",
       "      <td>34</td>\n",
       "      <td>...</td>\n",
       "      <td>222</td>\n",
       "      <td>274</td>\n",
       "      <td>314</td>\n",
       "      <td>366</td>\n",
       "      <td>327</td>\n",
       "      <td>215</td>\n",
       "      <td>165</td>\n",
       "      <td>124</td>\n",
       "      <td>99</td>\n",
       "      <td>79</td>\n",
       "    </tr>\n",
       "  </tbody>\n",
       "</table>\n",
       "<p>5 rows × 28 columns</p>\n",
       "</div>"
      ],
      "text/plain": [
       "        station_id  dir_of_travel  lane_of_travel        date   1   2   3   4  \\\n",
       "9924            43              3               1   2/17/2021  26  17  13  24   \n",
       "151966       11202              3               2  2022-03-10  53  38  38  49   \n",
       "47388          309              1               3  2022-11-15  10   4   4   4   \n",
       "124977       11273              1               4   11/8/2021  14   2   0   0   \n",
       "70534         3467              3               1   2/23/2021  48  32  24  22   \n",
       "\n",
       "         5    6  ...    15    16    17    18    19   20   21   22   23   24  \n",
       "9924    34   78  ...   371   437   526   623   337  234  169  124   69   45  \n",
       "151966  97  321  ...  1640  1800  1637  1652  1251  717  648  477  304  173  \n",
       "47388   19   99  ...   344   461   606   539   210  132  115   92   56   22  \n",
       "124977  43  145  ...   673   679   765   566   221  162  130   83   10   13  \n",
       "70534   28   34  ...   222   274   314   366   327  215  165  124   99   79  \n",
       "\n",
       "[5 rows x 28 columns]"
      ]
     },
     "execution_count": 25,
     "metadata": {},
     "output_type": "execute_result"
    }
   ],
   "source": [
    "traffic_df.sample(5)"
   ]
  },
  {
   "cell_type": "markdown",
   "metadata": {},
   "source": [
    "I am dropping certain columns from a Pandas DataFrame named traffic_df using the drop() method. Specifically, I am dropping the columns `station_id`, `dir_of_travel`, and `lane_of_travel`. To do so, I have specified axis=1 to drop the columns along the columns axis and inplace=True to perform the operation on the DataFrame traffic_df itself, as opposed to creating a new DataFrame with the dropped columns."
   ]
  },
  {
   "cell_type": "code",
   "execution_count": 26,
   "metadata": {},
   "outputs": [],
   "source": [
    "traffic_df.drop(['station_id', \n",
    "                 'dir_of_travel', \n",
    "                 'lane_of_travel'], \n",
    "                 axis=1, inplace=True)"
   ]
  },
  {
   "cell_type": "code",
   "execution_count": 27,
   "metadata": {},
   "outputs": [],
   "source": [
    "# changing date column to datetime\n",
    "traffic_df['date'] = pd.to_datetime(traffic_df.date)"
   ]
  },
  {
   "cell_type": "code",
   "execution_count": 28,
   "metadata": {},
   "outputs": [
    {
     "data": {
      "text/html": [
       "<div>\n",
       "<style scoped>\n",
       "    .dataframe tbody tr th:only-of-type {\n",
       "        vertical-align: middle;\n",
       "    }\n",
       "\n",
       "    .dataframe tbody tr th {\n",
       "        vertical-align: top;\n",
       "    }\n",
       "\n",
       "    .dataframe thead th {\n",
       "        text-align: right;\n",
       "    }\n",
       "</style>\n",
       "<table border=\"1\" class=\"dataframe\">\n",
       "  <thead>\n",
       "    <tr style=\"text-align: right;\">\n",
       "      <th></th>\n",
       "      <th>date</th>\n",
       "      <th>1</th>\n",
       "      <th>2</th>\n",
       "      <th>3</th>\n",
       "      <th>4</th>\n",
       "      <th>5</th>\n",
       "      <th>6</th>\n",
       "      <th>7</th>\n",
       "      <th>8</th>\n",
       "      <th>9</th>\n",
       "      <th>...</th>\n",
       "      <th>15</th>\n",
       "      <th>16</th>\n",
       "      <th>17</th>\n",
       "      <th>18</th>\n",
       "      <th>19</th>\n",
       "      <th>20</th>\n",
       "      <th>21</th>\n",
       "      <th>22</th>\n",
       "      <th>23</th>\n",
       "      <th>24</th>\n",
       "    </tr>\n",
       "  </thead>\n",
       "  <tbody>\n",
       "    <tr>\n",
       "      <th>0</th>\n",
       "      <td>2020-01-01</td>\n",
       "      <td>55</td>\n",
       "      <td>63</td>\n",
       "      <td>43</td>\n",
       "      <td>40</td>\n",
       "      <td>35</td>\n",
       "      <td>57</td>\n",
       "      <td>65</td>\n",
       "      <td>78</td>\n",
       "      <td>140</td>\n",
       "      <td>...</td>\n",
       "      <td>487</td>\n",
       "      <td>458</td>\n",
       "      <td>466</td>\n",
       "      <td>372</td>\n",
       "      <td>330</td>\n",
       "      <td>272</td>\n",
       "      <td>209</td>\n",
       "      <td>153</td>\n",
       "      <td>114</td>\n",
       "      <td>86</td>\n",
       "    </tr>\n",
       "    <tr>\n",
       "      <th>1</th>\n",
       "      <td>2020-01-01</td>\n",
       "      <td>3</td>\n",
       "      <td>7</td>\n",
       "      <td>3</td>\n",
       "      <td>7</td>\n",
       "      <td>5</td>\n",
       "      <td>7</td>\n",
       "      <td>5</td>\n",
       "      <td>8</td>\n",
       "      <td>14</td>\n",
       "      <td>...</td>\n",
       "      <td>198</td>\n",
       "      <td>195</td>\n",
       "      <td>220</td>\n",
       "      <td>133</td>\n",
       "      <td>95</td>\n",
       "      <td>85</td>\n",
       "      <td>54</td>\n",
       "      <td>28</td>\n",
       "      <td>22</td>\n",
       "      <td>15</td>\n",
       "    </tr>\n",
       "    <tr>\n",
       "      <th>2</th>\n",
       "      <td>2020-01-01</td>\n",
       "      <td>59</td>\n",
       "      <td>54</td>\n",
       "      <td>39</td>\n",
       "      <td>52</td>\n",
       "      <td>45</td>\n",
       "      <td>63</td>\n",
       "      <td>139</td>\n",
       "      <td>179</td>\n",
       "      <td>268</td>\n",
       "      <td>...</td>\n",
       "      <td>469</td>\n",
       "      <td>430</td>\n",
       "      <td>434</td>\n",
       "      <td>361</td>\n",
       "      <td>312</td>\n",
       "      <td>229</td>\n",
       "      <td>190</td>\n",
       "      <td>145</td>\n",
       "      <td>70</td>\n",
       "      <td>49</td>\n",
       "    </tr>\n",
       "    <tr>\n",
       "      <th>3</th>\n",
       "      <td>2020-01-01</td>\n",
       "      <td>8</td>\n",
       "      <td>2</td>\n",
       "      <td>3</td>\n",
       "      <td>5</td>\n",
       "      <td>5</td>\n",
       "      <td>4</td>\n",
       "      <td>22</td>\n",
       "      <td>37</td>\n",
       "      <td>60</td>\n",
       "      <td>...</td>\n",
       "      <td>207</td>\n",
       "      <td>204</td>\n",
       "      <td>195</td>\n",
       "      <td>146</td>\n",
       "      <td>109</td>\n",
       "      <td>79</td>\n",
       "      <td>37</td>\n",
       "      <td>21</td>\n",
       "      <td>15</td>\n",
       "      <td>7</td>\n",
       "    </tr>\n",
       "    <tr>\n",
       "      <th>4</th>\n",
       "      <td>2020-01-02</td>\n",
       "      <td>66</td>\n",
       "      <td>49</td>\n",
       "      <td>62</td>\n",
       "      <td>71</td>\n",
       "      <td>131</td>\n",
       "      <td>209</td>\n",
       "      <td>256</td>\n",
       "      <td>315</td>\n",
       "      <td>315</td>\n",
       "      <td>...</td>\n",
       "      <td>460</td>\n",
       "      <td>465</td>\n",
       "      <td>424</td>\n",
       "      <td>392</td>\n",
       "      <td>312</td>\n",
       "      <td>218</td>\n",
       "      <td>196</td>\n",
       "      <td>192</td>\n",
       "      <td>159</td>\n",
       "      <td>102</td>\n",
       "    </tr>\n",
       "  </tbody>\n",
       "</table>\n",
       "<p>5 rows × 25 columns</p>\n",
       "</div>"
      ],
      "text/plain": [
       "        date   1   2   3   4    5    6    7    8    9  ...   15   16   17  \\\n",
       "0 2020-01-01  55  63  43  40   35   57   65   78  140  ...  487  458  466   \n",
       "1 2020-01-01   3   7   3   7    5    7    5    8   14  ...  198  195  220   \n",
       "2 2020-01-01  59  54  39  52   45   63  139  179  268  ...  469  430  434   \n",
       "3 2020-01-01   8   2   3   5    5    4   22   37   60  ...  207  204  195   \n",
       "4 2020-01-02  66  49  62  71  131  209  256  315  315  ...  460  465  424   \n",
       "\n",
       "    18   19   20   21   22   23   24  \n",
       "0  372  330  272  209  153  114   86  \n",
       "1  133   95   85   54   28   22   15  \n",
       "2  361  312  229  190  145   70   49  \n",
       "3  146  109   79   37   21   15    7  \n",
       "4  392  312  218  196  192  159  102  \n",
       "\n",
       "[5 rows x 25 columns]"
      ]
     },
     "execution_count": 28,
     "metadata": {},
     "output_type": "execute_result"
    }
   ],
   "source": [
    "traffic_df.head(5)"
   ]
  },
  {
   "cell_type": "code",
   "execution_count": 29,
   "metadata": {},
   "outputs": [],
   "source": [
    "# Rename 0 column name that represent 12 am to 24\n",
    "traffic_df = traffic_df.rename(columns={'24': '0'}) "
   ]
  },
  {
   "cell_type": "code",
   "execution_count": 30,
   "metadata": {},
   "outputs": [],
   "source": [
    "# Group the dataset by the date column and aggregate values by summation\n",
    "traffic_df = traffic_df.groupby(by=\"date\").agg(np.sum)"
   ]
  },
  {
   "cell_type": "code",
   "execution_count": 31,
   "metadata": {},
   "outputs": [],
   "source": [
    "traffic_df.reset_index(inplace=True)"
   ]
  },
  {
   "cell_type": "markdown",
   "metadata": {},
   "source": [
    "I used the `melt()` function in Pandas to reshape my traffic dataset. By specifying the id_vars parameter as date, the hour and traffic_density columns were created by melting the columns that were not specified."
   ]
  },
  {
   "cell_type": "code",
   "execution_count": 32,
   "metadata": {},
   "outputs": [
    {
     "data": {
      "text/html": [
       "<div>\n",
       "<style scoped>\n",
       "    .dataframe tbody tr th:only-of-type {\n",
       "        vertical-align: middle;\n",
       "    }\n",
       "\n",
       "    .dataframe tbody tr th {\n",
       "        vertical-align: top;\n",
       "    }\n",
       "\n",
       "    .dataframe thead th {\n",
       "        text-align: right;\n",
       "    }\n",
       "</style>\n",
       "<table border=\"1\" class=\"dataframe\">\n",
       "  <thead>\n",
       "    <tr style=\"text-align: right;\">\n",
       "      <th></th>\n",
       "      <th>date</th>\n",
       "      <th>hour</th>\n",
       "      <th>traffic_density</th>\n",
       "    </tr>\n",
       "  </thead>\n",
       "  <tbody>\n",
       "    <tr>\n",
       "      <th>0</th>\n",
       "      <td>2020-01-01</td>\n",
       "      <td>1</td>\n",
       "      <td>63070</td>\n",
       "    </tr>\n",
       "    <tr>\n",
       "      <th>1</th>\n",
       "      <td>2020-01-02</td>\n",
       "      <td>1</td>\n",
       "      <td>29100</td>\n",
       "    </tr>\n",
       "    <tr>\n",
       "      <th>2</th>\n",
       "      <td>2020-01-03</td>\n",
       "      <td>1</td>\n",
       "      <td>33363</td>\n",
       "    </tr>\n",
       "    <tr>\n",
       "      <th>3</th>\n",
       "      <td>2020-01-04</td>\n",
       "      <td>1</td>\n",
       "      <td>48133</td>\n",
       "    </tr>\n",
       "    <tr>\n",
       "      <th>4</th>\n",
       "      <td>2020-01-05</td>\n",
       "      <td>1</td>\n",
       "      <td>45792</td>\n",
       "    </tr>\n",
       "    <tr>\n",
       "      <th>...</th>\n",
       "      <td>...</td>\n",
       "      <td>...</td>\n",
       "      <td>...</td>\n",
       "    </tr>\n",
       "    <tr>\n",
       "      <th>25555</th>\n",
       "      <td>2022-12-27</td>\n",
       "      <td>0</td>\n",
       "      <td>56696</td>\n",
       "    </tr>\n",
       "    <tr>\n",
       "      <th>25556</th>\n",
       "      <td>2022-12-28</td>\n",
       "      <td>0</td>\n",
       "      <td>60708</td>\n",
       "    </tr>\n",
       "    <tr>\n",
       "      <th>25557</th>\n",
       "      <td>2022-12-29</td>\n",
       "      <td>0</td>\n",
       "      <td>64717</td>\n",
       "    </tr>\n",
       "    <tr>\n",
       "      <th>25558</th>\n",
       "      <td>2022-12-30</td>\n",
       "      <td>0</td>\n",
       "      <td>79761</td>\n",
       "    </tr>\n",
       "    <tr>\n",
       "      <th>25559</th>\n",
       "      <td>2022-12-31</td>\n",
       "      <td>0</td>\n",
       "      <td>72547</td>\n",
       "    </tr>\n",
       "  </tbody>\n",
       "</table>\n",
       "<p>25560 rows × 3 columns</p>\n",
       "</div>"
      ],
      "text/plain": [
       "            date hour  traffic_density\n",
       "0     2020-01-01    1            63070\n",
       "1     2020-01-02    1            29100\n",
       "2     2020-01-03    1            33363\n",
       "3     2020-01-04    1            48133\n",
       "4     2020-01-05    1            45792\n",
       "...          ...  ...              ...\n",
       "25555 2022-12-27    0            56696\n",
       "25556 2022-12-28    0            60708\n",
       "25557 2022-12-29    0            64717\n",
       "25558 2022-12-30    0            79761\n",
       "25559 2022-12-31    0            72547\n",
       "\n",
       "[25560 rows x 3 columns]"
      ]
     },
     "execution_count": 32,
     "metadata": {},
     "output_type": "execute_result"
    }
   ],
   "source": [
    "traffic_df = traffic_df.melt(id_vars=['date'], var_name='hour', value_name='traffic_density')\n",
    "traffic_df"
   ]
  },
  {
   "cell_type": "code",
   "execution_count": 33,
   "metadata": {},
   "outputs": [],
   "source": [
    "# Changing the datetime format\n",
    "traffic_df['time'] = pd.to_datetime(traffic_df['date'].dt.date.astype(str) + ' ' + traffic_df['hour'] + ':00')\n",
    "traffic_df['time'] = traffic_df['time'].dt.strftime('%Y-%m-%dT%H:00')"
   ]
  },
  {
   "cell_type": "code",
   "execution_count": 34,
   "metadata": {},
   "outputs": [
    {
     "data": {
      "text/html": [
       "<div>\n",
       "<style scoped>\n",
       "    .dataframe tbody tr th:only-of-type {\n",
       "        vertical-align: middle;\n",
       "    }\n",
       "\n",
       "    .dataframe tbody tr th {\n",
       "        vertical-align: top;\n",
       "    }\n",
       "\n",
       "    .dataframe thead th {\n",
       "        text-align: right;\n",
       "    }\n",
       "</style>\n",
       "<table border=\"1\" class=\"dataframe\">\n",
       "  <thead>\n",
       "    <tr style=\"text-align: right;\">\n",
       "      <th></th>\n",
       "      <th>traffic_density</th>\n",
       "      <th>time</th>\n",
       "    </tr>\n",
       "  </thead>\n",
       "  <tbody>\n",
       "    <tr>\n",
       "      <th>0</th>\n",
       "      <td>63070</td>\n",
       "      <td>2020-01-01T01:00</td>\n",
       "    </tr>\n",
       "    <tr>\n",
       "      <th>1</th>\n",
       "      <td>29100</td>\n",
       "      <td>2020-01-02T01:00</td>\n",
       "    </tr>\n",
       "    <tr>\n",
       "      <th>2</th>\n",
       "      <td>33363</td>\n",
       "      <td>2020-01-03T01:00</td>\n",
       "    </tr>\n",
       "    <tr>\n",
       "      <th>3</th>\n",
       "      <td>48133</td>\n",
       "      <td>2020-01-04T01:00</td>\n",
       "    </tr>\n",
       "    <tr>\n",
       "      <th>4</th>\n",
       "      <td>45792</td>\n",
       "      <td>2020-01-05T01:00</td>\n",
       "    </tr>\n",
       "    <tr>\n",
       "      <th>...</th>\n",
       "      <td>...</td>\n",
       "      <td>...</td>\n",
       "    </tr>\n",
       "    <tr>\n",
       "      <th>25555</th>\n",
       "      <td>56696</td>\n",
       "      <td>2022-12-27T00:00</td>\n",
       "    </tr>\n",
       "    <tr>\n",
       "      <th>25556</th>\n",
       "      <td>60708</td>\n",
       "      <td>2022-12-28T00:00</td>\n",
       "    </tr>\n",
       "    <tr>\n",
       "      <th>25557</th>\n",
       "      <td>64717</td>\n",
       "      <td>2022-12-29T00:00</td>\n",
       "    </tr>\n",
       "    <tr>\n",
       "      <th>25558</th>\n",
       "      <td>79761</td>\n",
       "      <td>2022-12-30T00:00</td>\n",
       "    </tr>\n",
       "    <tr>\n",
       "      <th>25559</th>\n",
       "      <td>72547</td>\n",
       "      <td>2022-12-31T00:00</td>\n",
       "    </tr>\n",
       "  </tbody>\n",
       "</table>\n",
       "<p>25560 rows × 2 columns</p>\n",
       "</div>"
      ],
      "text/plain": [
       "       traffic_density              time\n",
       "0                63070  2020-01-01T01:00\n",
       "1                29100  2020-01-02T01:00\n",
       "2                33363  2020-01-03T01:00\n",
       "3                48133  2020-01-04T01:00\n",
       "4                45792  2020-01-05T01:00\n",
       "...                ...               ...\n",
       "25555            56696  2022-12-27T00:00\n",
       "25556            60708  2022-12-28T00:00\n",
       "25557            64717  2022-12-29T00:00\n",
       "25558            79761  2022-12-30T00:00\n",
       "25559            72547  2022-12-31T00:00\n",
       "\n",
       "[25560 rows x 2 columns]"
      ]
     },
     "execution_count": 34,
     "metadata": {},
     "output_type": "execute_result"
    }
   ],
   "source": [
    "# Dropping unnecessary columns\n",
    "traffic_df.drop(['date', 'hour'], axis=1, inplace=True)\n",
    "traffic_df"
   ]
  },
  {
   "cell_type": "code",
   "execution_count": 35,
   "metadata": {},
   "outputs": [
    {
     "name": "stdout",
     "output_type": "stream",
     "text": [
      "<class 'pandas.core.frame.DataFrame'>\n",
      "RangeIndex: 25560 entries, 0 to 25559\n",
      "Data columns (total 2 columns):\n",
      " #   Column           Non-Null Count  Dtype \n",
      "---  ------           --------------  ----- \n",
      " 0   traffic_density  25560 non-null  int64 \n",
      " 1   time             25560 non-null  object\n",
      "dtypes: int64(1), object(1)\n",
      "memory usage: 399.5+ KB\n"
     ]
    }
   ],
   "source": [
    "traffic_df.info()"
   ]
  },
  {
   "cell_type": "code",
   "execution_count": 36,
   "metadata": {},
   "outputs": [
    {
     "data": {
      "text/html": [
       "<div>\n",
       "<style scoped>\n",
       "    .dataframe tbody tr th:only-of-type {\n",
       "        vertical-align: middle;\n",
       "    }\n",
       "\n",
       "    .dataframe tbody tr th {\n",
       "        vertical-align: top;\n",
       "    }\n",
       "\n",
       "    .dataframe thead th {\n",
       "        text-align: right;\n",
       "    }\n",
       "</style>\n",
       "<table border=\"1\" class=\"dataframe\">\n",
       "  <thead>\n",
       "    <tr style=\"text-align: right;\">\n",
       "      <th></th>\n",
       "      <th>traffic_density</th>\n",
       "    </tr>\n",
       "  </thead>\n",
       "  <tbody>\n",
       "    <tr>\n",
       "      <th>count</th>\n",
       "      <td>25560.000000</td>\n",
       "    </tr>\n",
       "    <tr>\n",
       "      <th>mean</th>\n",
       "      <td>152043.335798</td>\n",
       "    </tr>\n",
       "    <tr>\n",
       "      <th>std</th>\n",
       "      <td>112083.429562</td>\n",
       "    </tr>\n",
       "    <tr>\n",
       "      <th>min</th>\n",
       "      <td>0.000000</td>\n",
       "    </tr>\n",
       "    <tr>\n",
       "      <th>25%</th>\n",
       "      <td>44765.500000</td>\n",
       "    </tr>\n",
       "    <tr>\n",
       "      <th>50%</th>\n",
       "      <td>132280.000000</td>\n",
       "    </tr>\n",
       "    <tr>\n",
       "      <th>75%</th>\n",
       "      <td>250285.750000</td>\n",
       "    </tr>\n",
       "    <tr>\n",
       "      <th>max</th>\n",
       "      <td>450134.000000</td>\n",
       "    </tr>\n",
       "  </tbody>\n",
       "</table>\n",
       "</div>"
      ],
      "text/plain": [
       "       traffic_density\n",
       "count     25560.000000\n",
       "mean     152043.335798\n",
       "std      112083.429562\n",
       "min           0.000000\n",
       "25%       44765.500000\n",
       "50%      132280.000000\n",
       "75%      250285.750000\n",
       "max      450134.000000"
      ]
     },
     "execution_count": 36,
     "metadata": {},
     "output_type": "execute_result"
    }
   ],
   "source": [
    "traffic_df.describe()"
   ]
  },
  {
   "cell_type": "markdown",
   "metadata": {},
   "source": [
    "The mean traffic density of 152,043.34 vehicles suggests that Minnesota may have moderate to high levels of traffic overall. The standard deviation of 112,083.43 indicates that there is significant variability in the data, which suggests that some areas of Minnesota may have significantly higher or lower traffic densities than others.\n",
    "The minimum value of 0 suggests that there may be periods of time where there is little or no traffic in the area, which could be due to a variety of factors such as time of day, day of the week, or specific events or weather conditions. The maximum value of 450,134 indicates that there may be periods of time where there is a high volume of traffic in the area, which could be due to factors such as rush hour, accidents, or road construction.\n",
    "The quartile values of 44,765.5 (25th percentile) and 250,285.75 (75th percentile) suggest that the majority of the recorded traffic densities are distributed between these two values."
   ]
  },
  {
   "cell_type": "markdown",
   "metadata": {
    "id": "o3IOQ0Kt2z77"
   },
   "source": [
    "## Joining the datasets"
   ]
  },
  {
   "cell_type": "markdown",
   "metadata": {},
   "source": [
    "I merged the `df_hourly_weather`, `traffic_df`, and `df_air_quality` dataframes into a new dataframe named df, using the `merge()` function with the on parameter set to `time`. The result is a dataframe includes 9 columns and 17468 rows"
   ]
  },
  {
   "cell_type": "code",
   "execution_count": 37,
   "metadata": {
    "id": "OoY6zNkz25o0"
   },
   "outputs": [],
   "source": [
    "df = df_hourly_weather.merge(traffic_df, on='time')\n",
    "df = df.merge(df_air_quality, on='time')"
   ]
  },
  {
   "cell_type": "code",
   "execution_count": 38,
   "metadata": {
    "id": "eQlO2po45PZp"
   },
   "outputs": [
    {
     "data": {
      "text/html": [
       "<div>\n",
       "<style scoped>\n",
       "    .dataframe tbody tr th:only-of-type {\n",
       "        vertical-align: middle;\n",
       "    }\n",
       "\n",
       "    .dataframe tbody tr th {\n",
       "        vertical-align: top;\n",
       "    }\n",
       "\n",
       "    .dataframe thead th {\n",
       "        text-align: right;\n",
       "    }\n",
       "</style>\n",
       "<table border=\"1\" class=\"dataframe\">\n",
       "  <thead>\n",
       "    <tr style=\"text-align: right;\">\n",
       "      <th></th>\n",
       "      <th>time</th>\n",
       "      <th>temperature_2m</th>\n",
       "      <th>relativehumidity_2m</th>\n",
       "      <th>dewpoint_2m</th>\n",
       "      <th>rain</th>\n",
       "      <th>snowfall</th>\n",
       "      <th>windspeed_10m</th>\n",
       "      <th>traffic_density</th>\n",
       "      <th>aqi</th>\n",
       "    </tr>\n",
       "  </thead>\n",
       "  <tbody>\n",
       "    <tr>\n",
       "      <th>16736</th>\n",
       "      <td>2022-11-28T12:00</td>\n",
       "      <td>-2.4</td>\n",
       "      <td>76</td>\n",
       "      <td>-6.1</td>\n",
       "      <td>0.0</td>\n",
       "      <td>0.0</td>\n",
       "      <td>4.96</td>\n",
       "      <td>273517</td>\n",
       "      <td>1</td>\n",
       "    </tr>\n",
       "    <tr>\n",
       "      <th>8191</th>\n",
       "      <td>2021-11-02T11:00</td>\n",
       "      <td>-0.6</td>\n",
       "      <td>77</td>\n",
       "      <td>-4.1</td>\n",
       "      <td>0.0</td>\n",
       "      <td>0.0</td>\n",
       "      <td>3.18</td>\n",
       "      <td>232497</td>\n",
       "      <td>1</td>\n",
       "    </tr>\n",
       "    <tr>\n",
       "      <th>15161</th>\n",
       "      <td>2022-09-23T21:00</td>\n",
       "      <td>13.9</td>\n",
       "      <td>68</td>\n",
       "      <td>8.2</td>\n",
       "      <td>0.2</td>\n",
       "      <td>0.0</td>\n",
       "      <td>7.84</td>\n",
       "      <td>185027</td>\n",
       "      <td>1</td>\n",
       "    </tr>\n",
       "    <tr>\n",
       "      <th>10365</th>\n",
       "      <td>2022-03-06T01:00</td>\n",
       "      <td>-1.2</td>\n",
       "      <td>81</td>\n",
       "      <td>-4.0</td>\n",
       "      <td>0.1</td>\n",
       "      <td>0.0</td>\n",
       "      <td>3.93</td>\n",
       "      <td>35755</td>\n",
       "      <td>1</td>\n",
       "    </tr>\n",
       "    <tr>\n",
       "      <th>3630</th>\n",
       "      <td>2021-04-26T11:00</td>\n",
       "      <td>2.2</td>\n",
       "      <td>89</td>\n",
       "      <td>0.5</td>\n",
       "      <td>0.3</td>\n",
       "      <td>0.0</td>\n",
       "      <td>5.28</td>\n",
       "      <td>77863</td>\n",
       "      <td>2</td>\n",
       "    </tr>\n",
       "    <tr>\n",
       "      <th>4806</th>\n",
       "      <td>2021-06-14T11:00</td>\n",
       "      <td>17.1</td>\n",
       "      <td>66</td>\n",
       "      <td>10.6</td>\n",
       "      <td>0.0</td>\n",
       "      <td>0.0</td>\n",
       "      <td>3.08</td>\n",
       "      <td>243604</td>\n",
       "      <td>1</td>\n",
       "    </tr>\n",
       "    <tr>\n",
       "      <th>8677</th>\n",
       "      <td>2021-11-22T17:00</td>\n",
       "      <td>-6.9</td>\n",
       "      <td>59</td>\n",
       "      <td>-13.7</td>\n",
       "      <td>0.0</td>\n",
       "      <td>0.0</td>\n",
       "      <td>1.63</td>\n",
       "      <td>354351</td>\n",
       "      <td>1</td>\n",
       "    </tr>\n",
       "    <tr>\n",
       "      <th>4869</th>\n",
       "      <td>2021-06-17T02:00</td>\n",
       "      <td>28.4</td>\n",
       "      <td>39</td>\n",
       "      <td>13.3</td>\n",
       "      <td>0.0</td>\n",
       "      <td>0.0</td>\n",
       "      <td>2.57</td>\n",
       "      <td>23351</td>\n",
       "      <td>2</td>\n",
       "    </tr>\n",
       "    <tr>\n",
       "      <th>14110</th>\n",
       "      <td>2022-08-11T03:00</td>\n",
       "      <td>21.9</td>\n",
       "      <td>54</td>\n",
       "      <td>12.3</td>\n",
       "      <td>0.0</td>\n",
       "      <td>0.0</td>\n",
       "      <td>2.95</td>\n",
       "      <td>19956</td>\n",
       "      <td>1</td>\n",
       "    </tr>\n",
       "    <tr>\n",
       "      <th>14265</th>\n",
       "      <td>2022-08-17T14:00</td>\n",
       "      <td>19.4</td>\n",
       "      <td>84</td>\n",
       "      <td>16.6</td>\n",
       "      <td>0.0</td>\n",
       "      <td>0.0</td>\n",
       "      <td>3.36</td>\n",
       "      <td>270954</td>\n",
       "      <td>1</td>\n",
       "    </tr>\n",
       "  </tbody>\n",
       "</table>\n",
       "</div>"
      ],
      "text/plain": [
       "                   time  temperature_2m  relativehumidity_2m  dewpoint_2m  \\\n",
       "16736  2022-11-28T12:00            -2.4                   76         -6.1   \n",
       "8191   2021-11-02T11:00            -0.6                   77         -4.1   \n",
       "15161  2022-09-23T21:00            13.9                   68          8.2   \n",
       "10365  2022-03-06T01:00            -1.2                   81         -4.0   \n",
       "3630   2021-04-26T11:00             2.2                   89          0.5   \n",
       "4806   2021-06-14T11:00            17.1                   66         10.6   \n",
       "8677   2021-11-22T17:00            -6.9                   59        -13.7   \n",
       "4869   2021-06-17T02:00            28.4                   39         13.3   \n",
       "14110  2022-08-11T03:00            21.9                   54         12.3   \n",
       "14265  2022-08-17T14:00            19.4                   84         16.6   \n",
       "\n",
       "       rain  snowfall  windspeed_10m  traffic_density  aqi  \n",
       "16736   0.0       0.0           4.96           273517    1  \n",
       "8191    0.0       0.0           3.18           232497    1  \n",
       "15161   0.2       0.0           7.84           185027    1  \n",
       "10365   0.1       0.0           3.93            35755    1  \n",
       "3630    0.3       0.0           5.28            77863    2  \n",
       "4806    0.0       0.0           3.08           243604    1  \n",
       "8677    0.0       0.0           1.63           354351    1  \n",
       "4869    0.0       0.0           2.57            23351    2  \n",
       "14110   0.0       0.0           2.95            19956    1  \n",
       "14265   0.0       0.0           3.36           270954    1  "
      ]
     },
     "execution_count": 38,
     "metadata": {},
     "output_type": "execute_result"
    }
   ],
   "source": [
    "df.sample(10)"
   ]
  },
  {
   "cell_type": "code",
   "execution_count": 39,
   "metadata": {},
   "outputs": [
    {
     "data": {
      "text/plain": [
       "(17468, 9)"
      ]
     },
     "execution_count": 39,
     "metadata": {},
     "output_type": "execute_result"
    }
   ],
   "source": [
    "df.shape"
   ]
  },
  {
   "cell_type": "code",
   "execution_count": 40,
   "metadata": {},
   "outputs": [],
   "source": [
    "df.to_csv(\"datasets/combined.csv\", index=False)"
   ]
  },
  {
   "cell_type": "markdown",
   "metadata": {},
   "source": [
    "# Data Cleaning"
   ]
  },
  {
   "cell_type": "code",
   "execution_count": 41,
   "metadata": {},
   "outputs": [
    {
     "data": {
      "text/plain": [
       "(17468, 9)"
      ]
     },
     "execution_count": 41,
     "metadata": {},
     "output_type": "execute_result"
    }
   ],
   "source": [
    "df = pd.read_csv(\"datasets/combined.csv\")\n",
    "df.shape"
   ]
  },
  {
   "cell_type": "code",
   "execution_count": 42,
   "metadata": {},
   "outputs": [
    {
     "name": "stdout",
     "output_type": "stream",
     "text": [
      "<class 'pandas.core.frame.DataFrame'>\n",
      "RangeIndex: 17468 entries, 0 to 17467\n",
      "Data columns (total 9 columns):\n",
      " #   Column               Non-Null Count  Dtype  \n",
      "---  ------               --------------  -----  \n",
      " 0   time                 17468 non-null  object \n",
      " 1   temperature_2m       17468 non-null  float64\n",
      " 2   relativehumidity_2m  17468 non-null  int64  \n",
      " 3   dewpoint_2m          17468 non-null  float64\n",
      " 4   rain                 17468 non-null  float64\n",
      " 5   snowfall             17468 non-null  float64\n",
      " 6   windspeed_10m        17468 non-null  float64\n",
      " 7   traffic_density      17468 non-null  int64  \n",
      " 8   aqi                  17468 non-null  int64  \n",
      "dtypes: float64(5), int64(3), object(1)\n",
      "memory usage: 1.2+ MB\n"
     ]
    }
   ],
   "source": [
    "df.info()"
   ]
  },
  {
   "cell_type": "code",
   "execution_count": 43,
   "metadata": {},
   "outputs": [
    {
     "data": {
      "text/html": [
       "<div>\n",
       "<style scoped>\n",
       "    .dataframe tbody tr th:only-of-type {\n",
       "        vertical-align: middle;\n",
       "    }\n",
       "\n",
       "    .dataframe tbody tr th {\n",
       "        vertical-align: top;\n",
       "    }\n",
       "\n",
       "    .dataframe thead th {\n",
       "        text-align: right;\n",
       "    }\n",
       "</style>\n",
       "<table border=\"1\" class=\"dataframe\">\n",
       "  <thead>\n",
       "    <tr style=\"text-align: right;\">\n",
       "      <th></th>\n",
       "      <th>temperature_2m</th>\n",
       "      <th>relativehumidity_2m</th>\n",
       "      <th>dewpoint_2m</th>\n",
       "      <th>rain</th>\n",
       "      <th>snowfall</th>\n",
       "      <th>windspeed_10m</th>\n",
       "      <th>traffic_density</th>\n",
       "      <th>aqi</th>\n",
       "    </tr>\n",
       "  </thead>\n",
       "  <tbody>\n",
       "    <tr>\n",
       "      <th>count</th>\n",
       "      <td>17468.000000</td>\n",
       "      <td>17468.000000</td>\n",
       "      <td>17468.000000</td>\n",
       "      <td>17468.000000</td>\n",
       "      <td>17468.000000</td>\n",
       "      <td>17468.000000</td>\n",
       "      <td>17468.000000</td>\n",
       "      <td>17468.000000</td>\n",
       "    </tr>\n",
       "    <tr>\n",
       "      <th>mean</th>\n",
       "      <td>6.649599</td>\n",
       "      <td>68.911037</td>\n",
       "      <td>0.842466</td>\n",
       "      <td>0.067581</td>\n",
       "      <td>0.010251</td>\n",
       "      <td>3.792768</td>\n",
       "      <td>161434.111575</td>\n",
       "      <td>1.263854</td>\n",
       "    </tr>\n",
       "    <tr>\n",
       "      <th>std</th>\n",
       "      <td>13.784137</td>\n",
       "      <td>16.043655</td>\n",
       "      <td>12.602002</td>\n",
       "      <td>0.421215</td>\n",
       "      <td>0.070857</td>\n",
       "      <td>1.722387</td>\n",
       "      <td>118563.349685</td>\n",
       "      <td>0.510994</td>\n",
       "    </tr>\n",
       "    <tr>\n",
       "      <th>min</th>\n",
       "      <td>-34.200000</td>\n",
       "      <td>19.000000</td>\n",
       "      <td>-37.300000</td>\n",
       "      <td>0.000000</td>\n",
       "      <td>0.000000</td>\n",
       "      <td>0.100000</td>\n",
       "      <td>0.000000</td>\n",
       "      <td>1.000000</td>\n",
       "    </tr>\n",
       "    <tr>\n",
       "      <th>25%</th>\n",
       "      <td>-2.700000</td>\n",
       "      <td>57.000000</td>\n",
       "      <td>-7.300000</td>\n",
       "      <td>0.000000</td>\n",
       "      <td>0.000000</td>\n",
       "      <td>2.510000</td>\n",
       "      <td>46789.000000</td>\n",
       "      <td>1.000000</td>\n",
       "    </tr>\n",
       "    <tr>\n",
       "      <th>50%</th>\n",
       "      <td>7.000000</td>\n",
       "      <td>70.000000</td>\n",
       "      <td>1.000000</td>\n",
       "      <td>0.000000</td>\n",
       "      <td>0.000000</td>\n",
       "      <td>3.590000</td>\n",
       "      <td>138043.000000</td>\n",
       "      <td>1.000000</td>\n",
       "    </tr>\n",
       "    <tr>\n",
       "      <th>75%</th>\n",
       "      <td>18.600000</td>\n",
       "      <td>81.000000</td>\n",
       "      <td>11.700000</td>\n",
       "      <td>0.000000</td>\n",
       "      <td>0.000000</td>\n",
       "      <td>4.880000</td>\n",
       "      <td>270651.500000</td>\n",
       "      <td>1.000000</td>\n",
       "    </tr>\n",
       "    <tr>\n",
       "      <th>max</th>\n",
       "      <td>33.900000</td>\n",
       "      <td>100.000000</td>\n",
       "      <td>23.700000</td>\n",
       "      <td>9.900000</td>\n",
       "      <td>1.820000</td>\n",
       "      <td>12.640000</td>\n",
       "      <td>450134.000000</td>\n",
       "      <td>5.000000</td>\n",
       "    </tr>\n",
       "  </tbody>\n",
       "</table>\n",
       "</div>"
      ],
      "text/plain": [
       "       temperature_2m  relativehumidity_2m   dewpoint_2m          rain  \\\n",
       "count    17468.000000         17468.000000  17468.000000  17468.000000   \n",
       "mean         6.649599            68.911037      0.842466      0.067581   \n",
       "std         13.784137            16.043655     12.602002      0.421215   \n",
       "min        -34.200000            19.000000    -37.300000      0.000000   \n",
       "25%         -2.700000            57.000000     -7.300000      0.000000   \n",
       "50%          7.000000            70.000000      1.000000      0.000000   \n",
       "75%         18.600000            81.000000     11.700000      0.000000   \n",
       "max         33.900000           100.000000     23.700000      9.900000   \n",
       "\n",
       "           snowfall  windspeed_10m  traffic_density           aqi  \n",
       "count  17468.000000   17468.000000     17468.000000  17468.000000  \n",
       "mean       0.010251       3.792768    161434.111575      1.263854  \n",
       "std        0.070857       1.722387    118563.349685      0.510994  \n",
       "min        0.000000       0.100000         0.000000      1.000000  \n",
       "25%        0.000000       2.510000     46789.000000      1.000000  \n",
       "50%        0.000000       3.590000    138043.000000      1.000000  \n",
       "75%        0.000000       4.880000    270651.500000      1.000000  \n",
       "max        1.820000      12.640000    450134.000000      5.000000  "
      ]
     },
     "execution_count": 43,
     "metadata": {},
     "output_type": "execute_result"
    }
   ],
   "source": [
    "df.describe()"
   ]
  },
  {
   "cell_type": "markdown",
   "metadata": {},
   "source": [
    "we can see that the location experienced an average temperature of 6.65°C, with a minimum of -34.2°C and a maximum of 33.9°C. The average relative humidity was 68.91%, and the dew point was 0.84°C on average. The location also experienced an average rainfall of 0.067 mm and an average snowfall of 0.01 mm, indicating that the area may have a mild climate.\n",
    "The dataset also includes information on traffic density and air quality index (AQI). The mean traffic density was 161,434 vehicles, with a minimum of 0 and a maximum of 450,134. The mean AQI was 1.26, with a minimum of 1 and a maximum of 5, indicating that the air quality in this location is generally good."
   ]
  },
  {
   "cell_type": "markdown",
   "metadata": {},
   "source": [
    "converting time column to datetime format"
   ]
  },
  {
   "cell_type": "code",
   "execution_count": 44,
   "metadata": {},
   "outputs": [],
   "source": [
    "df['time'] = pd.to_datetime(df['time'])"
   ]
  },
  {
   "cell_type": "markdown",
   "metadata": {},
   "source": [
    "converting datetime to season, month, day"
   ]
  },
  {
   "cell_type": "code",
   "execution_count": 45,
   "metadata": {},
   "outputs": [],
   "source": [
    "# Extracting quarter, month, and weekday of datetime and adding them to dataframe\n",
    "df['quarter'] = df['time'].dt.quarter\n",
    "df['month'] = df['time'].dt.month\n",
    "df['weekday'] = df['time'].dt.weekday"
   ]
  },
  {
   "cell_type": "markdown",
   "metadata": {},
   "source": [
    "I converted the quarter, month, and weekday columns to categorical data type using the .astype() method. This can be useful for memory optimization and to indicate that these columns should not be treated as continuous variables, but rather as categorical features."
   ]
  },
  {
   "cell_type": "code",
   "execution_count": 46,
   "metadata": {},
   "outputs": [],
   "source": [
    "# Changing the type of date columns to category because the functions assume they are int\n",
    "df['quarter'] = df['quarter'].astype('category')\n",
    "df['month'] = df['month'].astype('category')\n",
    "df['weekday'] = df['weekday'].astype('category')"
   ]
  },
  {
   "cell_type": "code",
   "execution_count": 47,
   "metadata": {},
   "outputs": [
    {
     "data": {
      "text/html": [
       "<div>\n",
       "<style scoped>\n",
       "    .dataframe tbody tr th:only-of-type {\n",
       "        vertical-align: middle;\n",
       "    }\n",
       "\n",
       "    .dataframe tbody tr th {\n",
       "        vertical-align: top;\n",
       "    }\n",
       "\n",
       "    .dataframe thead th {\n",
       "        text-align: right;\n",
       "    }\n",
       "</style>\n",
       "<table border=\"1\" class=\"dataframe\">\n",
       "  <thead>\n",
       "    <tr style=\"text-align: right;\">\n",
       "      <th></th>\n",
       "      <th>time</th>\n",
       "      <th>temperature_2m</th>\n",
       "      <th>relativehumidity_2m</th>\n",
       "      <th>dewpoint_2m</th>\n",
       "      <th>rain</th>\n",
       "      <th>snowfall</th>\n",
       "      <th>windspeed_10m</th>\n",
       "      <th>traffic_density</th>\n",
       "      <th>aqi</th>\n",
       "      <th>quarter</th>\n",
       "      <th>month</th>\n",
       "      <th>weekday</th>\n",
       "    </tr>\n",
       "  </thead>\n",
       "  <tbody>\n",
       "    <tr>\n",
       "      <th>5071</th>\n",
       "      <td>2021-06-25 12:00:00</td>\n",
       "      <td>16.8</td>\n",
       "      <td>82</td>\n",
       "      <td>13.6</td>\n",
       "      <td>0.0</td>\n",
       "      <td>0.0</td>\n",
       "      <td>1.70</td>\n",
       "      <td>307482</td>\n",
       "      <td>1</td>\n",
       "      <td>2</td>\n",
       "      <td>6</td>\n",
       "      <td>4</td>\n",
       "    </tr>\n",
       "    <tr>\n",
       "      <th>2854</th>\n",
       "      <td>2021-03-25 03:00:00</td>\n",
       "      <td>2.3</td>\n",
       "      <td>85</td>\n",
       "      <td>0.0</td>\n",
       "      <td>0.0</td>\n",
       "      <td>0.0</td>\n",
       "      <td>2.02</td>\n",
       "      <td>12279</td>\n",
       "      <td>1</td>\n",
       "      <td>1</td>\n",
       "      <td>3</td>\n",
       "      <td>3</td>\n",
       "    </tr>\n",
       "    <tr>\n",
       "      <th>6636</th>\n",
       "      <td>2021-08-29 17:00:00</td>\n",
       "      <td>20.8</td>\n",
       "      <td>67</td>\n",
       "      <td>14.5</td>\n",
       "      <td>0.0</td>\n",
       "      <td>0.0</td>\n",
       "      <td>5.04</td>\n",
       "      <td>284056</td>\n",
       "      <td>1</td>\n",
       "      <td>3</td>\n",
       "      <td>8</td>\n",
       "      <td>6</td>\n",
       "    </tr>\n",
       "    <tr>\n",
       "      <th>548</th>\n",
       "      <td>2020-12-18 00:00:00</td>\n",
       "      <td>-2.9</td>\n",
       "      <td>74</td>\n",
       "      <td>-6.9</td>\n",
       "      <td>0.0</td>\n",
       "      <td>0.0</td>\n",
       "      <td>3.35</td>\n",
       "      <td>47714</td>\n",
       "      <td>2</td>\n",
       "      <td>4</td>\n",
       "      <td>12</td>\n",
       "      <td>4</td>\n",
       "    </tr>\n",
       "    <tr>\n",
       "      <th>8941</th>\n",
       "      <td>2022-01-03 17:00:00</td>\n",
       "      <td>-11.0</td>\n",
       "      <td>79</td>\n",
       "      <td>-13.9</td>\n",
       "      <td>0.0</td>\n",
       "      <td>0.0</td>\n",
       "      <td>2.59</td>\n",
       "      <td>299403</td>\n",
       "      <td>1</td>\n",
       "      <td>1</td>\n",
       "      <td>1</td>\n",
       "      <td>0</td>\n",
       "    </tr>\n",
       "  </tbody>\n",
       "</table>\n",
       "</div>"
      ],
      "text/plain": [
       "                    time  temperature_2m  relativehumidity_2m  dewpoint_2m  \\\n",
       "5071 2021-06-25 12:00:00            16.8                   82         13.6   \n",
       "2854 2021-03-25 03:00:00             2.3                   85          0.0   \n",
       "6636 2021-08-29 17:00:00            20.8                   67         14.5   \n",
       "548  2020-12-18 00:00:00            -2.9                   74         -6.9   \n",
       "8941 2022-01-03 17:00:00           -11.0                   79        -13.9   \n",
       "\n",
       "      rain  snowfall  windspeed_10m  traffic_density  aqi quarter month  \\\n",
       "5071   0.0       0.0           1.70           307482    1       2     6   \n",
       "2854   0.0       0.0           2.02            12279    1       1     3   \n",
       "6636   0.0       0.0           5.04           284056    1       3     8   \n",
       "548    0.0       0.0           3.35            47714    2       4    12   \n",
       "8941   0.0       0.0           2.59           299403    1       1     1   \n",
       "\n",
       "     weekday  \n",
       "5071       4  \n",
       "2854       3  \n",
       "6636       6  \n",
       "548        4  \n",
       "8941       0  "
      ]
     },
     "execution_count": 47,
     "metadata": {},
     "output_type": "execute_result"
    }
   ],
   "source": [
    "df.sample(5)"
   ]
  },
  {
   "cell_type": "code",
   "execution_count": 48,
   "metadata": {},
   "outputs": [],
   "source": [
    "df.drop(['time'], axis=1, inplace=True)"
   ]
  },
  {
   "cell_type": "code",
   "execution_count": 49,
   "metadata": {},
   "outputs": [],
   "source": [
    "# Select weather columns\n",
    "weather_cols = ['temperature_2m', \n",
    "                'relativehumidity_2m',\n",
    "                'dewpoint_2m',\n",
    "                'windspeed_10m']"
   ]
  },
  {
   "cell_type": "markdown",
   "metadata": {},
   "source": [
    "## Removing the outliers"
   ]
  },
  {
   "cell_type": "code",
   "execution_count": 50,
   "metadata": {},
   "outputs": [
    {
     "data": {
      "text/plain": [
       "<AxesSubplot:>"
      ]
     },
     "execution_count": 50,
     "metadata": {},
     "output_type": "execute_result"
    },
    {
     "data": {
      "image/png": "[encoded data removed]",
      "text/plain": [
       "<Figure size 720x576 with 1 Axes>"
      ]
     },
     "metadata": {},
     "output_type": "display_data"
    }
   ],
   "source": [
    "sns.boxplot(data=df[weather_cols])"
   ]
  },
  {
   "cell_type": "code",
   "execution_count": 51,
   "metadata": {},
   "outputs": [],
   "source": [
    "# Removing the outliers\n",
    "df_clean = df[(df['relativehumidity_2m'] > 30)]\n",
    "df_clean = df_clean[(df_clean['dewpoint_2m'] > -30)]"
   ]
  },
  {
   "cell_type": "code",
   "execution_count": 52,
   "metadata": {},
   "outputs": [
    {
     "data": {
      "text/plain": [
       "<AxesSubplot:>"
      ]
     },
     "execution_count": 52,
     "metadata": {},
     "output_type": "execute_result"
    },
    {
     "data": {
      "image/png": "[encoded data removed]",
      "text/plain": [
       "<Figure size 720x576 with 1 Axes>"
      ]
     },
     "metadata": {},
     "output_type": "display_data"
    }
   ],
   "source": [
    "sns.boxplot(data=df_clean[weather_cols])"
   ]
  },
  {
   "cell_type": "code",
   "execution_count": 53,
   "metadata": {},
   "outputs": [
    {
     "data": {
      "text/plain": [
       "<AxesSubplot:>"
      ]
     },
     "execution_count": 53,
     "metadata": {},
     "output_type": "execute_result"
    },
    {
     "data": {
      "image/png": "[encoded data removed]",
      "text/plain": [
       "<Figure size 720x576 with 1 Axes>"
      ]
     },
     "metadata": {},
     "output_type": "display_data"
    }
   ],
   "source": [
    "sns.boxplot(data=df_clean['windspeed_10m'])\n"
   ]
  },
  {
   "cell_type": "code",
   "execution_count": 54,
   "metadata": {},
   "outputs": [],
   "source": [
    "# Removing the outliers\n",
    "df_clean = df_clean[(df_clean['windspeed_10m'] < 8)]"
   ]
  },
  {
   "cell_type": "code",
   "execution_count": 55,
   "metadata": {},
   "outputs": [
    {
     "data": {
      "text/plain": [
       "<AxesSubplot:>"
      ]
     },
     "execution_count": 55,
     "metadata": {},
     "output_type": "execute_result"
    },
    {
     "data": {
      "image/png": "[encoded data removed]",
      "text/plain": [
       "<Figure size 720x576 with 1 Axes>"
      ]
     },
     "metadata": {},
     "output_type": "display_data"
    }
   ],
   "source": [
    "sns.boxplot(data=df_clean['windspeed_10m'])"
   ]
  },
  {
   "cell_type": "code",
   "execution_count": 56,
   "metadata": {},
   "outputs": [
    {
     "data": {
      "text/plain": [
       "<AxesSubplot:>"
      ]
     },
     "execution_count": 56,
     "metadata": {},
     "output_type": "execute_result"
    },
    {
     "data": {
      "image/png": "[encoded data removed]",
      "text/plain": [
       "<Figure size 720x576 with 1 Axes>"
      ]
     },
     "metadata": {},
     "output_type": "display_data"
    }
   ],
   "source": [
    "sns.boxplot(data=df_clean['traffic_density'])"
   ]
  },
  {
   "cell_type": "markdown",
   "metadata": {},
   "source": [
    "# Exploratory Data Analysis"
   ]
  },
  {
   "cell_type": "markdown",
   "metadata": {},
   "source": [
    "In this section, I am looking to examine the different features of the dataset and I want to examine what relationships there can be between these values. Also, to be more precise about the changes in the values of the air quality status, how it changes and how to make decisions based on data from those results."
   ]
  },
  {
   "cell_type": "code",
   "execution_count": 57,
   "metadata": {},
   "outputs": [],
   "source": [
    "aqi_count = df_clean['aqi'].value_counts()"
   ]
  },
  {
   "cell_type": "code",
   "execution_count": 58,
   "metadata": {},
   "outputs": [
    {
     "data": {
      "text/plain": [
       "1    12844\n",
       "2     3877\n",
       "3      107\n",
       "4       67\n",
       "5       46\n",
       "Name: aqi, dtype: int64"
      ]
     },
     "execution_count": 58,
     "metadata": {},
     "output_type": "execute_result"
    }
   ],
   "source": [
    "aqi_count"
   ]
  },
  {
   "cell_type": "markdown",
   "metadata": {},
   "source": [
    "This imbalance in the distribution of data points across different AQI levels is a problem for machine learning algorithms, as it can bias the model towards the majority class and lead to poor performance in predicting minority classes. In other words, the algorithm will be better at predicting the most common AQI levels, while performing poorly on the less frequent levels."
   ]
  },
  {
   "cell_type": "code",
   "execution_count": 59,
   "metadata": {},
   "outputs": [
    {
     "data": {
      "text/plain": [
       "Text(0, 0.5, 'Count')"
      ]
     },
     "execution_count": 59,
     "metadata": {},
     "output_type": "execute_result"
    },
    {
     "data": {
      "image/png": "[encoded data removed]",
      "text/plain": [
       "<Figure size 720x576 with 1 Axes>"
      ]
     },
     "metadata": {},
     "output_type": "display_data"
    }
   ],
   "source": [
    "sns.barplot(x=aqi_count.index, y=aqi_count)\n",
    "plt.title(\"Distribution of aqi (y) variable\")\n",
    "plt.xlabel(\"labels\")\n",
    "plt.ylabel(\"Count\")"
   ]
  },
  {
   "cell_type": "code",
   "execution_count": 60,
   "metadata": {},
   "outputs": [
    {
     "data": {
      "text/html": [
       "<div>\n",
       "<style scoped>\n",
       "    .dataframe tbody tr th:only-of-type {\n",
       "        vertical-align: middle;\n",
       "    }\n",
       "\n",
       "    .dataframe tbody tr th {\n",
       "        vertical-align: top;\n",
       "    }\n",
       "\n",
       "    .dataframe thead th {\n",
       "        text-align: right;\n",
       "    }\n",
       "</style>\n",
       "<table border=\"1\" class=\"dataframe\">\n",
       "  <thead>\n",
       "    <tr style=\"text-align: right;\">\n",
       "      <th></th>\n",
       "      <th>temperature_2m</th>\n",
       "      <th>relativehumidity_2m</th>\n",
       "      <th>dewpoint_2m</th>\n",
       "      <th>rain</th>\n",
       "      <th>snowfall</th>\n",
       "      <th>windspeed_10m</th>\n",
       "      <th>traffic_density</th>\n",
       "      <th>aqi</th>\n",
       "    </tr>\n",
       "  </thead>\n",
       "  <tbody>\n",
       "    <tr>\n",
       "      <th>temperature_2m</th>\n",
       "      <td>1.000000</td>\n",
       "      <td>-0.270324</td>\n",
       "      <td>0.960246</td>\n",
       "      <td>0.094749</td>\n",
       "      <td>-0.123433</td>\n",
       "      <td>-0.043742</td>\n",
       "      <td>0.157817</td>\n",
       "      <td>0.089518</td>\n",
       "    </tr>\n",
       "    <tr>\n",
       "      <th>relativehumidity_2m</th>\n",
       "      <td>-0.270324</td>\n",
       "      <td>1.000000</td>\n",
       "      <td>0.004717</td>\n",
       "      <td>0.184083</td>\n",
       "      <td>0.141676</td>\n",
       "      <td>-0.112922</td>\n",
       "      <td>0.072638</td>\n",
       "      <td>-0.132904</td>\n",
       "    </tr>\n",
       "    <tr>\n",
       "      <th>dewpoint_2m</th>\n",
       "      <td>0.960246</td>\n",
       "      <td>0.004717</td>\n",
       "      <td>1.000000</td>\n",
       "      <td>0.149830</td>\n",
       "      <td>-0.093645</td>\n",
       "      <td>-0.074598</td>\n",
       "      <td>0.189121</td>\n",
       "      <td>0.050695</td>\n",
       "    </tr>\n",
       "    <tr>\n",
       "      <th>rain</th>\n",
       "      <td>0.094749</td>\n",
       "      <td>0.184083</td>\n",
       "      <td>0.149830</td>\n",
       "      <td>1.000000</td>\n",
       "      <td>-0.007452</td>\n",
       "      <td>0.054674</td>\n",
       "      <td>-0.005727</td>\n",
       "      <td>0.011376</td>\n",
       "    </tr>\n",
       "    <tr>\n",
       "      <th>snowfall</th>\n",
       "      <td>-0.123433</td>\n",
       "      <td>0.141676</td>\n",
       "      <td>-0.093645</td>\n",
       "      <td>-0.007452</td>\n",
       "      <td>1.000000</td>\n",
       "      <td>0.093475</td>\n",
       "      <td>-0.023513</td>\n",
       "      <td>-0.022306</td>\n",
       "    </tr>\n",
       "    <tr>\n",
       "      <th>windspeed_10m</th>\n",
       "      <td>-0.043742</td>\n",
       "      <td>-0.112922</td>\n",
       "      <td>-0.074598</td>\n",
       "      <td>0.054674</td>\n",
       "      <td>0.093475</td>\n",
       "      <td>1.000000</td>\n",
       "      <td>0.022622</td>\n",
       "      <td>0.107523</td>\n",
       "    </tr>\n",
       "    <tr>\n",
       "      <th>traffic_density</th>\n",
       "      <td>0.157817</td>\n",
       "      <td>0.072638</td>\n",
       "      <td>0.189121</td>\n",
       "      <td>-0.005727</td>\n",
       "      <td>-0.023513</td>\n",
       "      <td>0.022622</td>\n",
       "      <td>1.000000</td>\n",
       "      <td>-0.149255</td>\n",
       "    </tr>\n",
       "    <tr>\n",
       "      <th>aqi</th>\n",
       "      <td>0.089518</td>\n",
       "      <td>-0.132904</td>\n",
       "      <td>0.050695</td>\n",
       "      <td>0.011376</td>\n",
       "      <td>-0.022306</td>\n",
       "      <td>0.107523</td>\n",
       "      <td>-0.149255</td>\n",
       "      <td>1.000000</td>\n",
       "    </tr>\n",
       "  </tbody>\n",
       "</table>\n",
       "</div>"
      ],
      "text/plain": [
       "                     temperature_2m  relativehumidity_2m  dewpoint_2m  \\\n",
       "temperature_2m             1.000000            -0.270324     0.960246   \n",
       "relativehumidity_2m       -0.270324             1.000000     0.004717   \n",
       "dewpoint_2m                0.960246             0.004717     1.000000   \n",
       "rain                       0.094749             0.184083     0.149830   \n",
       "snowfall                  -0.123433             0.141676    -0.093645   \n",
       "windspeed_10m             -0.043742            -0.112922    -0.074598   \n",
       "traffic_density            0.157817             0.072638     0.189121   \n",
       "aqi                        0.089518            -0.132904     0.050695   \n",
       "\n",
       "                         rain  snowfall  windspeed_10m  traffic_density  \\\n",
       "temperature_2m       0.094749 -0.123433      -0.043742         0.157817   \n",
       "relativehumidity_2m  0.184083  0.141676      -0.112922         0.072638   \n",
       "dewpoint_2m          0.149830 -0.093645      -0.074598         0.189121   \n",
       "rain                 1.000000 -0.007452       0.054674        -0.005727   \n",
       "snowfall            -0.007452  1.000000       0.093475        -0.023513   \n",
       "windspeed_10m        0.054674  0.093475       1.000000         0.022622   \n",
       "traffic_density     -0.005727 -0.023513       0.022622         1.000000   \n",
       "aqi                  0.011376 -0.022306       0.107523        -0.149255   \n",
       "\n",
       "                          aqi  \n",
       "temperature_2m       0.089518  \n",
       "relativehumidity_2m -0.132904  \n",
       "dewpoint_2m          0.050695  \n",
       "rain                 0.011376  \n",
       "snowfall            -0.022306  \n",
       "windspeed_10m        0.107523  \n",
       "traffic_density     -0.149255  \n",
       "aqi                  1.000000  "
      ]
     },
     "execution_count": 60,
     "metadata": {},
     "output_type": "execute_result"
    }
   ],
   "source": [
    "df_clean.corr()"
   ]
  },
  {
   "cell_type": "code",
   "execution_count": 61,
   "metadata": {},
   "outputs": [
    {
     "data": {
      "text/plain": [
       "Text(0.5, 1.0, 'Correlation Matrix of our dataset')"
      ]
     },
     "execution_count": 61,
     "metadata": {},
     "output_type": "execute_result"
    },
    {
     "data": {
      "image/png": "[encoded data removed]",
      "text/plain": [
       "<Figure size 720x576 with 2 Axes>"
      ]
     },
     "metadata": {},
     "output_type": "display_data"
    }
   ],
   "source": [
    "df_corr = df_clean.corr()\n",
    "# create a heatmap of the correlation matrix\n",
    "sns.heatmap(df_corr, annot=True, cmap='coolwarm')\n",
    "\n",
    "plt.title('Correlation Matrix of our dataset')"
   ]
  },
  {
   "cell_type": "markdown",
   "metadata": {},
   "source": [
    "## Interpretation of the matrix:\n",
    "\n",
    "* `Temperature_2m` is **highly correlated** with `dewpoint_2m` (0.96) and **moderately correlated** with `traffic_density` (0.15) and `aqi` (0.09).\n",
    "* `Relativehumidity_2m` is **moderately negatively correlated** with `traffic_density` (-0.07) and `aqi` (-0.13).\n",
    "* `Dewpoint_2m` is **highly correlated** with `temperature_2m` (0.96) and **moderately correlated** with `traffic_density` (0.19).\n",
    "* `Rain` is **weakly positively correlated** with all variables in the dataset.\n",
    "* `Snowfall` is **weakly negatively correlated** with `traffic_density` (-0.02) and `aqi` (-0.02).\n",
    "* `Windspeed_10m` is **weakly positively correlated** with `traffic_density` (0.02) and `aqi` (0.11).\n",
    "* `Traffic_density` is **weakly positively correlated** with temperature_2m (0.15) and dewpoint_2m (0.19) and weakly negatively correlated with aqi (-0.15).\n",
    "* AQI is **weakly positively correlated** with `windspeed_10m` (0.11) and **weakly negatively correlated** with `relativehumidity_2m` (-0.13) and `traffic_density` (-0.15).\n",
    "\n",
    "\n",
    "- The **high correlation** between `temperature_2m` and `dewpoint_2m` is expected since `dewpoint` is directly related to the air temperature. The **moderate correlation** between `temperature_2m` and `traffic_density` might indicate that the traffic density tends to be higher when the temperature is higher. On the other hand, the negative correlation between `relativehumidity_2m` and traffic_density might indicate that the traffic density tends to be lower when the humidity is higher."
   ]
  },
  {
   "cell_type": "markdown",
   "metadata": {},
   "source": [
    "* Quarter"
   ]
  },
  {
   "cell_type": "code",
   "execution_count": 62,
   "metadata": {},
   "outputs": [],
   "source": [
    "df_by_quarter = df_clean.groupby(by='quarter').agg(np.mean)"
   ]
  },
  {
   "cell_type": "code",
   "execution_count": 63,
   "metadata": {},
   "outputs": [
    {
     "data": {
      "text/html": [
       "<div>\n",
       "<style scoped>\n",
       "    .dataframe tbody tr th:only-of-type {\n",
       "        vertical-align: middle;\n",
       "    }\n",
       "\n",
       "    .dataframe tbody tr th {\n",
       "        vertical-align: top;\n",
       "    }\n",
       "\n",
       "    .dataframe thead th {\n",
       "        text-align: right;\n",
       "    }\n",
       "</style>\n",
       "<table border=\"1\" class=\"dataframe\">\n",
       "  <thead>\n",
       "    <tr style=\"text-align: right;\">\n",
       "      <th></th>\n",
       "      <th>temperature_2m</th>\n",
       "      <th>relativehumidity_2m</th>\n",
       "      <th>dewpoint_2m</th>\n",
       "      <th>rain</th>\n",
       "      <th>snowfall</th>\n",
       "      <th>windspeed_10m</th>\n",
       "      <th>traffic_density</th>\n",
       "      <th>aqi</th>\n",
       "    </tr>\n",
       "    <tr>\n",
       "      <th>quarter</th>\n",
       "      <th></th>\n",
       "      <th></th>\n",
       "      <th></th>\n",
       "      <th></th>\n",
       "      <th></th>\n",
       "      <th></th>\n",
       "      <th></th>\n",
       "      <th></th>\n",
       "    </tr>\n",
       "  </thead>\n",
       "  <tbody>\n",
       "    <tr>\n",
       "      <th>1</th>\n",
       "      <td>-7.405153</td>\n",
       "      <td>73.383442</td>\n",
       "      <td>-11.592671</td>\n",
       "      <td>0.013182</td>\n",
       "      <td>0.020188</td>\n",
       "      <td>3.834532</td>\n",
       "      <td>110151.295398</td>\n",
       "      <td>1.341171</td>\n",
       "    </tr>\n",
       "    <tr>\n",
       "      <th>2</th>\n",
       "      <td>12.538817</td>\n",
       "      <td>64.510968</td>\n",
       "      <td>5.428183</td>\n",
       "      <td>0.098617</td>\n",
       "      <td>0.004907</td>\n",
       "      <td>3.852344</td>\n",
       "      <td>172802.869099</td>\n",
       "      <td>1.350501</td>\n",
       "    </tr>\n",
       "    <tr>\n",
       "      <th>3</th>\n",
       "      <td>20.606072</td>\n",
       "      <td>66.817387</td>\n",
       "      <td>13.740202</td>\n",
       "      <td>0.112259</td>\n",
       "      <td>0.000000</td>\n",
       "      <td>3.416640</td>\n",
       "      <td>190045.348206</td>\n",
       "      <td>1.247930</td>\n",
       "    </tr>\n",
       "    <tr>\n",
       "      <th>4</th>\n",
       "      <td>1.208430</td>\n",
       "      <td>72.559873</td>\n",
       "      <td>-3.427312</td>\n",
       "      <td>0.043558</td>\n",
       "      <td>0.014824</td>\n",
       "      <td>3.827666</td>\n",
       "      <td>171443.047489</td>\n",
       "      <td>1.128153</td>\n",
       "    </tr>\n",
       "  </tbody>\n",
       "</table>\n",
       "</div>"
      ],
      "text/plain": [
       "         temperature_2m  relativehumidity_2m  dewpoint_2m      rain  snowfall  \\\n",
       "quarter                                                                         \n",
       "1             -7.405153            73.383442   -11.592671  0.013182  0.020188   \n",
       "2             12.538817            64.510968     5.428183  0.098617  0.004907   \n",
       "3             20.606072            66.817387    13.740202  0.112259  0.000000   \n",
       "4              1.208430            72.559873    -3.427312  0.043558  0.014824   \n",
       "\n",
       "         windspeed_10m  traffic_density       aqi  \n",
       "quarter                                            \n",
       "1             3.834532    110151.295398  1.341171  \n",
       "2             3.852344    172802.869099  1.350501  \n",
       "3             3.416640    190045.348206  1.247930  \n",
       "4             3.827666    171443.047489  1.128153  "
      ]
     },
     "execution_count": 63,
     "metadata": {},
     "output_type": "execute_result"
    }
   ],
   "source": [
    "df_by_quarter"
   ]
  },
  {
   "cell_type": "code",
   "execution_count": 64,
   "metadata": {},
   "outputs": [
    {
     "data": {
      "image/png": "[encoded data removed]",
      "text/plain": [
       "<Figure size 1440x720 with 8 Axes>"
      ]
     },
     "metadata": {},
     "output_type": "display_data"
    }
   ],
   "source": [
    "# create a figure with subplots for each column\n",
    "fig, axs = plt.subplots(ncols=len(df_by_quarter.columns)//2, \n",
    "                        nrows=2,\n",
    "                        figsize=(20, 10))\n",
    "\n",
    "# loop over each column and create a barplot\n",
    "for i, col in enumerate(df_by_quarter.columns):\n",
    "    row = i // (len(df_by_quarter.columns)//2)\n",
    "    col_i = i % (len(df_by_quarter.columns)//2)\n",
    "\n",
    "    sns.barplot(x=df_by_quarter.index, \n",
    "                y=col, \n",
    "                data=df_by_quarter, \n",
    "                ax=axs[row, col_i])\n",
    "    axs[row, col_i].set_title(col)\n",
    "\n",
    "# adjust the layout of the subplots\n",
    "plt.tight_layout()\n"
   ]
  },
  {
   "cell_type": "markdown",
   "metadata": {},
   "source": [
    "As we can see that the highest temperatures, relative humidity, and dew point occur in Q3, which is the summer season. The highest amounts of rain and snowfall occur in Q2, which is the monsoon season. The highest wind speeds occur in Q1, which is the winter season. The highest traffic density occurs in Q3 as well, which is consistent with increased tourism and travel during the summer season. The highest air pollution levels, as indicated by the air quality index, occur in Q2 and Q3, which is likely due to increased industrial and vehicular activity during these seasons."
   ]
  },
  {
   "cell_type": "markdown",
   "metadata": {},
   "source": [
    "* Month"
   ]
  },
  {
   "cell_type": "code",
   "execution_count": 65,
   "metadata": {},
   "outputs": [],
   "source": [
    "df_by_month = df_clean.groupby(by='month').agg(np.mean)"
   ]
  },
  {
   "cell_type": "code",
   "execution_count": 66,
   "metadata": {},
   "outputs": [
    {
     "data": {
      "text/html": [
       "<div>\n",
       "<style scoped>\n",
       "    .dataframe tbody tr th:only-of-type {\n",
       "        vertical-align: middle;\n",
       "    }\n",
       "\n",
       "    .dataframe tbody tr th {\n",
       "        vertical-align: top;\n",
       "    }\n",
       "\n",
       "    .dataframe thead th {\n",
       "        text-align: right;\n",
       "    }\n",
       "</style>\n",
       "<table border=\"1\" class=\"dataframe\">\n",
       "  <thead>\n",
       "    <tr style=\"text-align: right;\">\n",
       "      <th></th>\n",
       "      <th>temperature_2m</th>\n",
       "      <th>relativehumidity_2m</th>\n",
       "      <th>dewpoint_2m</th>\n",
       "      <th>rain</th>\n",
       "      <th>snowfall</th>\n",
       "      <th>windspeed_10m</th>\n",
       "      <th>traffic_density</th>\n",
       "      <th>aqi</th>\n",
       "    </tr>\n",
       "    <tr>\n",
       "      <th>month</th>\n",
       "      <th></th>\n",
       "      <th></th>\n",
       "      <th></th>\n",
       "      <th></th>\n",
       "      <th></th>\n",
       "      <th></th>\n",
       "      <th></th>\n",
       "      <th></th>\n",
       "    </tr>\n",
       "  </thead>\n",
       "  <tbody>\n",
       "    <tr>\n",
       "      <th>1</th>\n",
       "      <td>-10.148035</td>\n",
       "      <td>79.465793</td>\n",
       "      <td>-13.064774</td>\n",
       "      <td>0.000582</td>\n",
       "      <td>0.018392</td>\n",
       "      <td>3.625444</td>\n",
       "      <td>89206.072780</td>\n",
       "      <td>1.125910</td>\n",
       "    </tr>\n",
       "    <tr>\n",
       "      <th>2</th>\n",
       "      <td>-12.253486</td>\n",
       "      <td>73.030612</td>\n",
       "      <td>-16.196088</td>\n",
       "      <td>0.001701</td>\n",
       "      <td>0.024464</td>\n",
       "      <td>3.760136</td>\n",
       "      <td>114639.529762</td>\n",
       "      <td>1.253401</td>\n",
       "    </tr>\n",
       "    <tr>\n",
       "      <th>3</th>\n",
       "      <td>-0.864848</td>\n",
       "      <td>67.898481</td>\n",
       "      <td>-6.457113</td>\n",
       "      <td>0.034461</td>\n",
       "      <td>0.018419</td>\n",
       "      <td>4.093356</td>\n",
       "      <td>126380.972376</td>\n",
       "      <td>1.616713</td>\n",
       "    </tr>\n",
       "    <tr>\n",
       "      <th>4</th>\n",
       "      <td>3.749321</td>\n",
       "      <td>69.087205</td>\n",
       "      <td>-1.885490</td>\n",
       "      <td>0.120443</td>\n",
       "      <td>0.014711</td>\n",
       "      <td>4.282473</td>\n",
       "      <td>125427.774839</td>\n",
       "      <td>1.523231</td>\n",
       "    </tr>\n",
       "    <tr>\n",
       "      <th>5</th>\n",
       "      <td>13.008875</td>\n",
       "      <td>64.823899</td>\n",
       "      <td>6.054577</td>\n",
       "      <td>0.111600</td>\n",
       "      <td>0.000000</td>\n",
       "      <td>3.742418</td>\n",
       "      <td>194738.518519</td>\n",
       "      <td>1.323550</td>\n",
       "    </tr>\n",
       "    <tr>\n",
       "      <th>6</th>\n",
       "      <td>21.060704</td>\n",
       "      <td>59.489003</td>\n",
       "      <td>12.272361</td>\n",
       "      <td>0.062610</td>\n",
       "      <td>0.000000</td>\n",
       "      <td>3.526503</td>\n",
       "      <td>198380.466276</td>\n",
       "      <td>1.201613</td>\n",
       "    </tr>\n",
       "    <tr>\n",
       "      <th>7</th>\n",
       "      <td>22.681036</td>\n",
       "      <td>65.726382</td>\n",
       "      <td>15.438558</td>\n",
       "      <td>0.103359</td>\n",
       "      <td>0.000000</td>\n",
       "      <td>3.100700</td>\n",
       "      <td>194722.039888</td>\n",
       "      <td>1.319104</td>\n",
       "    </tr>\n",
       "    <tr>\n",
       "      <th>8</th>\n",
       "      <td>21.611694</td>\n",
       "      <td>67.836022</td>\n",
       "      <td>14.903965</td>\n",
       "      <td>0.105511</td>\n",
       "      <td>0.000000</td>\n",
       "      <td>3.491310</td>\n",
       "      <td>185455.918683</td>\n",
       "      <td>1.202285</td>\n",
       "    </tr>\n",
       "    <tr>\n",
       "      <th>9</th>\n",
       "      <td>17.488330</td>\n",
       "      <td>66.847659</td>\n",
       "      <td>10.834102</td>\n",
       "      <td>0.128162</td>\n",
       "      <td>0.000000</td>\n",
       "      <td>3.654493</td>\n",
       "      <td>190147.429769</td>\n",
       "      <td>1.224319</td>\n",
       "    </tr>\n",
       "    <tr>\n",
       "      <th>10</th>\n",
       "      <td>10.453104</td>\n",
       "      <td>70.112686</td>\n",
       "      <td>4.962888</td>\n",
       "      <td>0.087045</td>\n",
       "      <td>0.000520</td>\n",
       "      <td>3.846410</td>\n",
       "      <td>192244.275978</td>\n",
       "      <td>1.157895</td>\n",
       "    </tr>\n",
       "    <tr>\n",
       "      <th>11</th>\n",
       "      <td>-0.184306</td>\n",
       "      <td>72.890402</td>\n",
       "      <td>-4.674060</td>\n",
       "      <td>0.040208</td>\n",
       "      <td>0.011667</td>\n",
       "      <td>3.961933</td>\n",
       "      <td>181142.948768</td>\n",
       "      <td>1.080415</td>\n",
       "    </tr>\n",
       "    <tr>\n",
       "      <th>12</th>\n",
       "      <td>-7.181554</td>\n",
       "      <td>74.823529</td>\n",
       "      <td>-11.061147</td>\n",
       "      <td>0.000508</td>\n",
       "      <td>0.033755</td>\n",
       "      <td>3.657139</td>\n",
       "      <td>138193.469862</td>\n",
       "      <td>1.149601</td>\n",
       "    </tr>\n",
       "  </tbody>\n",
       "</table>\n",
       "</div>"
      ],
      "text/plain": [
       "       temperature_2m  relativehumidity_2m  dewpoint_2m      rain  snowfall  \\\n",
       "month                                                                         \n",
       "1          -10.148035            79.465793   -13.064774  0.000582  0.018392   \n",
       "2          -12.253486            73.030612   -16.196088  0.001701  0.024464   \n",
       "3           -0.864848            67.898481    -6.457113  0.034461  0.018419   \n",
       "4            3.749321            69.087205    -1.885490  0.120443  0.014711   \n",
       "5           13.008875            64.823899     6.054577  0.111600  0.000000   \n",
       "6           21.060704            59.489003    12.272361  0.062610  0.000000   \n",
       "7           22.681036            65.726382    15.438558  0.103359  0.000000   \n",
       "8           21.611694            67.836022    14.903965  0.105511  0.000000   \n",
       "9           17.488330            66.847659    10.834102  0.128162  0.000000   \n",
       "10          10.453104            70.112686     4.962888  0.087045  0.000520   \n",
       "11          -0.184306            72.890402    -4.674060  0.040208  0.011667   \n",
       "12          -7.181554            74.823529   -11.061147  0.000508  0.033755   \n",
       "\n",
       "       windspeed_10m  traffic_density       aqi  \n",
       "month                                            \n",
       "1           3.625444     89206.072780  1.125910  \n",
       "2           3.760136    114639.529762  1.253401  \n",
       "3           4.093356    126380.972376  1.616713  \n",
       "4           4.282473    125427.774839  1.523231  \n",
       "5           3.742418    194738.518519  1.323550  \n",
       "6           3.526503    198380.466276  1.201613  \n",
       "7           3.100700    194722.039888  1.319104  \n",
       "8           3.491310    185455.918683  1.202285  \n",
       "9           3.654493    190147.429769  1.224319  \n",
       "10          3.846410    192244.275978  1.157895  \n",
       "11          3.961933    181142.948768  1.080415  \n",
       "12          3.657139    138193.469862  1.149601  "
      ]
     },
     "execution_count": 66,
     "metadata": {},
     "output_type": "execute_result"
    }
   ],
   "source": [
    "df_by_month"
   ]
  },
  {
   "cell_type": "code",
   "execution_count": 67,
   "metadata": {},
   "outputs": [
    {
     "data": {
      "image/png": "[encoded data removed]",
      "text/plain": [
       "<Figure size 1440x720 with 8 Axes>"
      ]
     },
     "metadata": {},
     "output_type": "display_data"
    }
   ],
   "source": [
    "# create a figure with subplots for each column\n",
    "fig, axs = plt.subplots(ncols=len(df_by_month.columns)//2, \n",
    "                        nrows=2,\n",
    "                        figsize=(20, 10))\n",
    "\n",
    "# loop over each column and create a barplot\n",
    "for i, col in enumerate(df_by_month.columns):\n",
    "    row = i // (len(df_by_month.columns)//2)\n",
    "    col_i = i % (len(df_by_month.columns)//2)\n",
    "\n",
    "    sns.barplot(x=df_by_month.index, \n",
    "                y=col, \n",
    "                data=df_by_month, \n",
    "                ax=axs[row, col_i])\n",
    "    axs[row, col_i].set_title(col)\n",
    "\n",
    "# adjust the layout of the subplots\n",
    "plt.tight_layout()\n"
   ]
  },
  {
   "cell_type": "markdown",
   "metadata": {},
   "source": [
    " The rain and snowfall variables show that it rains a lot in the area, especially in the spring and fall months. The traffic_density variable could be an indication of urbanization or population density in the area. Finally, the air quality index suggests that the air quality in the area is generally good, with some fluctuations throughout the year."
   ]
  },
  {
   "cell_type": "markdown",
   "metadata": {},
   "source": [
    "* Weekday\n",
    "  "
   ]
  },
  {
   "cell_type": "code",
   "execution_count": 68,
   "metadata": {},
   "outputs": [],
   "source": [
    "df_by_weekday = df_clean.groupby(by='weekday').agg(np.mean)"
   ]
  },
  {
   "cell_type": "code",
   "execution_count": 69,
   "metadata": {},
   "outputs": [
    {
     "data": {
      "text/html": [
       "<div>\n",
       "<style scoped>\n",
       "    .dataframe tbody tr th:only-of-type {\n",
       "        vertical-align: middle;\n",
       "    }\n",
       "\n",
       "    .dataframe tbody tr th {\n",
       "        vertical-align: top;\n",
       "    }\n",
       "\n",
       "    .dataframe thead th {\n",
       "        text-align: right;\n",
       "    }\n",
       "</style>\n",
       "<table border=\"1\" class=\"dataframe\">\n",
       "  <thead>\n",
       "    <tr style=\"text-align: right;\">\n",
       "      <th></th>\n",
       "      <th>temperature_2m</th>\n",
       "      <th>relativehumidity_2m</th>\n",
       "      <th>dewpoint_2m</th>\n",
       "      <th>rain</th>\n",
       "      <th>snowfall</th>\n",
       "      <th>windspeed_10m</th>\n",
       "      <th>traffic_density</th>\n",
       "      <th>aqi</th>\n",
       "    </tr>\n",
       "    <tr>\n",
       "      <th>weekday</th>\n",
       "      <th></th>\n",
       "      <th></th>\n",
       "      <th></th>\n",
       "      <th></th>\n",
       "      <th></th>\n",
       "      <th></th>\n",
       "      <th></th>\n",
       "      <th></th>\n",
       "    </tr>\n",
       "  </thead>\n",
       "  <tbody>\n",
       "    <tr>\n",
       "      <th>0</th>\n",
       "      <td>6.907137</td>\n",
       "      <td>69.033828</td>\n",
       "      <td>1.159530</td>\n",
       "      <td>0.059860</td>\n",
       "      <td>0.009328</td>\n",
       "      <td>3.612607</td>\n",
       "      <td>161565.206683</td>\n",
       "      <td>1.275990</td>\n",
       "    </tr>\n",
       "    <tr>\n",
       "      <th>1</th>\n",
       "      <td>7.068336</td>\n",
       "      <td>68.231422</td>\n",
       "      <td>1.160905</td>\n",
       "      <td>0.058926</td>\n",
       "      <td>0.010319</td>\n",
       "      <td>3.716971</td>\n",
       "      <td>168245.966882</td>\n",
       "      <td>1.259289</td>\n",
       "    </tr>\n",
       "    <tr>\n",
       "      <th>2</th>\n",
       "      <td>7.284552</td>\n",
       "      <td>70.482032</td>\n",
       "      <td>1.785750</td>\n",
       "      <td>0.058653</td>\n",
       "      <td>0.018967</td>\n",
       "      <td>3.773337</td>\n",
       "      <td>169358.779017</td>\n",
       "      <td>1.251136</td>\n",
       "    </tr>\n",
       "    <tr>\n",
       "      <th>3</th>\n",
       "      <td>6.520357</td>\n",
       "      <td>70.044362</td>\n",
       "      <td>0.958665</td>\n",
       "      <td>0.082172</td>\n",
       "      <td>0.014859</td>\n",
       "      <td>3.840788</td>\n",
       "      <td>170131.090381</td>\n",
       "      <td>1.269071</td>\n",
       "    </tr>\n",
       "    <tr>\n",
       "      <th>4</th>\n",
       "      <td>6.609211</td>\n",
       "      <td>68.842214</td>\n",
       "      <td>0.828872</td>\n",
       "      <td>0.076828</td>\n",
       "      <td>0.005580</td>\n",
       "      <td>3.775489</td>\n",
       "      <td>178504.154069</td>\n",
       "      <td>1.249484</td>\n",
       "    </tr>\n",
       "    <tr>\n",
       "      <th>5</th>\n",
       "      <td>6.565041</td>\n",
       "      <td>69.455738</td>\n",
       "      <td>0.902131</td>\n",
       "      <td>0.073525</td>\n",
       "      <td>0.003299</td>\n",
       "      <td>3.684246</td>\n",
       "      <td>153383.029508</td>\n",
       "      <td>1.257377</td>\n",
       "    </tr>\n",
       "    <tr>\n",
       "      <th>6</th>\n",
       "      <td>7.783894</td>\n",
       "      <td>68.939923</td>\n",
       "      <td>1.938006</td>\n",
       "      <td>0.063698</td>\n",
       "      <td>0.006412</td>\n",
       "      <td>3.706378</td>\n",
       "      <td>132492.594802</td>\n",
       "      <td>1.288027</td>\n",
       "    </tr>\n",
       "  </tbody>\n",
       "</table>\n",
       "</div>"
      ],
      "text/plain": [
       "         temperature_2m  relativehumidity_2m  dewpoint_2m      rain  snowfall  \\\n",
       "weekday                                                                         \n",
       "0              6.907137            69.033828     1.159530  0.059860  0.009328   \n",
       "1              7.068336            68.231422     1.160905  0.058926  0.010319   \n",
       "2              7.284552            70.482032     1.785750  0.058653  0.018967   \n",
       "3              6.520357            70.044362     0.958665  0.082172  0.014859   \n",
       "4              6.609211            68.842214     0.828872  0.076828  0.005580   \n",
       "5              6.565041            69.455738     0.902131  0.073525  0.003299   \n",
       "6              7.783894            68.939923     1.938006  0.063698  0.006412   \n",
       "\n",
       "         windspeed_10m  traffic_density       aqi  \n",
       "weekday                                            \n",
       "0             3.612607    161565.206683  1.275990  \n",
       "1             3.716971    168245.966882  1.259289  \n",
       "2             3.773337    169358.779017  1.251136  \n",
       "3             3.840788    170131.090381  1.269071  \n",
       "4             3.775489    178504.154069  1.249484  \n",
       "5             3.684246    153383.029508  1.257377  \n",
       "6             3.706378    132492.594802  1.288027  "
      ]
     },
     "execution_count": 69,
     "metadata": {},
     "output_type": "execute_result"
    }
   ],
   "source": [
    "df_by_weekday"
   ]
  },
  {
   "cell_type": "code",
   "execution_count": 70,
   "metadata": {},
   "outputs": [
    {
     "data": {
      "image/png": "[encoded data removed]",
      "text/plain": [
       "<Figure size 1440x720 with 8 Axes>"
      ]
     },
     "metadata": {},
     "output_type": "display_data"
    }
   ],
   "source": [
    "# create a figure with subplots for each column\n",
    "fig, axs = plt.subplots(ncols=len(df_by_weekday.columns)//2, \n",
    "                        nrows=2,\n",
    "                        figsize=(20, 10))\n",
    "\n",
    "# loop over each column and create a barplot\n",
    "for i, col in enumerate(df_by_weekday.columns):\n",
    "    row = i // (len(df_by_weekday.columns)//2)\n",
    "    col_i = i % (len(df_by_weekday.columns)//2)\n",
    "\n",
    "    sns.barplot(x=df_by_weekday.index, \n",
    "                y=col, \n",
    "                data=df_by_weekday, \n",
    "                ax=axs[row, col_i])\n",
    "    axs[row, col_i].set_title(col)\n",
    "\n",
    "# adjust the layout of the subplots\n",
    "plt.tight_layout()\n"
   ]
  },
  {
   "cell_type": "markdown",
   "metadata": {},
   "source": [
    "The air quality is relatively good for all days of the week, with AQI values mostly between 1.25 and 1.29. The traffic density also seems to be fairly consistent across the days. The weather data varies from day to day, with different levels of temperature, humidity, and precipitation."
   ]
  },
  {
   "cell_type": "markdown",
   "metadata": {},
   "source": [
    "# Preprocessing data"
   ]
  },
  {
   "cell_type": "code",
   "execution_count": 71,
   "metadata": {},
   "outputs": [],
   "source": [
    "X = df_clean.drop(['aqi'], axis=1)\n",
    "y = df_clean['aqi']"
   ]
  },
  {
   "cell_type": "code",
   "execution_count": 72,
   "metadata": {},
   "outputs": [
    {
     "data": {
      "text/html": [
       "<div>\n",
       "<style scoped>\n",
       "    .dataframe tbody tr th:only-of-type {\n",
       "        vertical-align: middle;\n",
       "    }\n",
       "\n",
       "    .dataframe tbody tr th {\n",
       "        vertical-align: top;\n",
       "    }\n",
       "\n",
       "    .dataframe thead th {\n",
       "        text-align: right;\n",
       "    }\n",
       "</style>\n",
       "<table border=\"1\" class=\"dataframe\">\n",
       "  <thead>\n",
       "    <tr style=\"text-align: right;\">\n",
       "      <th></th>\n",
       "      <th>temperature_2m</th>\n",
       "      <th>relativehumidity_2m</th>\n",
       "      <th>dewpoint_2m</th>\n",
       "      <th>rain</th>\n",
       "      <th>snowfall</th>\n",
       "      <th>windspeed_10m</th>\n",
       "      <th>traffic_density</th>\n",
       "      <th>quarter</th>\n",
       "      <th>month</th>\n",
       "      <th>weekday</th>\n",
       "    </tr>\n",
       "  </thead>\n",
       "  <tbody>\n",
       "    <tr>\n",
       "      <th>4150</th>\n",
       "      <td>19.5</td>\n",
       "      <td>53</td>\n",
       "      <td>9.8</td>\n",
       "      <td>0.0</td>\n",
       "      <td>0.0</td>\n",
       "      <td>3.18</td>\n",
       "      <td>18276</td>\n",
       "      <td>2</td>\n",
       "      <td>5</td>\n",
       "      <td>1</td>\n",
       "    </tr>\n",
       "    <tr>\n",
       "      <th>656</th>\n",
       "      <td>-6.1</td>\n",
       "      <td>86</td>\n",
       "      <td>-8.1</td>\n",
       "      <td>0.0</td>\n",
       "      <td>0.0</td>\n",
       "      <td>2.52</td>\n",
       "      <td>56867</td>\n",
       "      <td>4</td>\n",
       "      <td>12</td>\n",
       "      <td>1</td>\n",
       "    </tr>\n",
       "    <tr>\n",
       "      <th>4328</th>\n",
       "      <td>18.3</td>\n",
       "      <td>85</td>\n",
       "      <td>15.7</td>\n",
       "      <td>0.0</td>\n",
       "      <td>0.0</td>\n",
       "      <td>4.87</td>\n",
       "      <td>267194</td>\n",
       "      <td>2</td>\n",
       "      <td>5</td>\n",
       "      <td>1</td>\n",
       "    </tr>\n",
       "    <tr>\n",
       "      <th>9359</th>\n",
       "      <td>-21.9</td>\n",
       "      <td>75</td>\n",
       "      <td>-25.2</td>\n",
       "      <td>0.0</td>\n",
       "      <td>0.0</td>\n",
       "      <td>3.14</td>\n",
       "      <td>16412</td>\n",
       "      <td>1</td>\n",
       "      <td>1</td>\n",
       "      <td>4</td>\n",
       "    </tr>\n",
       "    <tr>\n",
       "      <th>12150</th>\n",
       "      <td>9.8</td>\n",
       "      <td>84</td>\n",
       "      <td>7.3</td>\n",
       "      <td>0.0</td>\n",
       "      <td>0.0</td>\n",
       "      <td>2.14</td>\n",
       "      <td>270302</td>\n",
       "      <td>2</td>\n",
       "      <td>5</td>\n",
       "      <td>3</td>\n",
       "    </tr>\n",
       "  </tbody>\n",
       "</table>\n",
       "</div>"
      ],
      "text/plain": [
       "       temperature_2m  relativehumidity_2m  dewpoint_2m  rain  snowfall  \\\n",
       "4150             19.5                   53          9.8   0.0       0.0   \n",
       "656              -6.1                   86         -8.1   0.0       0.0   \n",
       "4328             18.3                   85         15.7   0.0       0.0   \n",
       "9359            -21.9                   75        -25.2   0.0       0.0   \n",
       "12150             9.8                   84          7.3   0.0       0.0   \n",
       "\n",
       "       windspeed_10m  traffic_density quarter month weekday  \n",
       "4150            3.18            18276       2     5       1  \n",
       "656             2.52            56867       4    12       1  \n",
       "4328            4.87           267194       2     5       1  \n",
       "9359            3.14            16412       1     1       4  \n",
       "12150           2.14           270302       2     5       3  "
      ]
     },
     "execution_count": 72,
     "metadata": {},
     "output_type": "execute_result"
    }
   ],
   "source": [
    "X.sample(5)"
   ]
  },
  {
   "cell_type": "code",
   "execution_count": 73,
   "metadata": {},
   "outputs": [],
   "source": [
    "from sklearn.model_selection import train_test_split\n",
    "\n",
    "X_train, X_test, y_train, y_test = train_test_split(X, y, test_size=0.2, random_state=42)"
   ]
  },
  {
   "cell_type": "code",
   "execution_count": 74,
   "metadata": {},
   "outputs": [
    {
     "data": {
      "text/plain": [
       "(13552, 10)"
      ]
     },
     "execution_count": 74,
     "metadata": {},
     "output_type": "execute_result"
    }
   ],
   "source": [
    "X_train.shape"
   ]
  },
  {
   "cell_type": "code",
   "execution_count": 75,
   "metadata": {},
   "outputs": [
    {
     "data": {
      "text/plain": [
       "(3389, 10)"
      ]
     },
     "execution_count": 75,
     "metadata": {},
     "output_type": "execute_result"
    }
   ],
   "source": [
    "X_test.shape"
   ]
  },
  {
   "cell_type": "markdown",
   "metadata": {},
   "source": [
    "Scaling the data can be important when working with certain machine learning models, as many models are sensitive to the scale of the input features. Feature scaling ensures that all features are on a similar scale and have a similar influence on the model. My dataset contains various environmental measurements, such as temperature, humidity, and wind speed, as well as some other variables like traffic density and air quality index (AQI). The scaling process will ensure that these variables are all on a similar scale, making them easier to compare and analyze together."
   ]
  },
  {
   "cell_type": "code",
   "execution_count": 76,
   "metadata": {},
   "outputs": [],
   "source": [
    "from sklearn.preprocessing import StandardScaler\n",
    "\n",
    "scaler = StandardScaler()\n",
    "X_scaled = scaler.fit_transform(X)\n",
    "X_train_scaled = scaler.fit_transform(X_train)\n",
    "X_test_scaled = scaler.transform(X_test)"
   ]
  },
  {
   "cell_type": "code",
   "execution_count": 77,
   "metadata": {},
   "outputs": [
    {
     "data": {
      "text/plain": [
       "array([[ 1.17314788, -0.14152855,  1.22026019, ...,  0.4142791 ,\n",
       "         0.1120614 , -1.49123379],\n",
       "       [-0.70093476,  0.04856642, -0.68277579, ..., -1.38431464,\n",
       "        -1.3473429 ,  0.51823229],\n",
       "       [ 1.24034607, -1.66228834,  0.73020801, ...,  0.4142791 ,\n",
       "         0.40394226, -0.98886727],\n",
       "       ...,\n",
       "       [ 0.96408687,  0.2386614 ,  1.11408221, ...,  0.4142791 ,\n",
       "         0.1120614 , -1.49123379],\n",
       "       [-1.2011879 ,  0.9356763 , -1.01764478, ...,  1.31357597,\n",
       "         1.5714657 ,  0.01586577],\n",
       "       [-0.14094991,  1.82278617,  0.28916104, ...,  1.31357597,\n",
       "         1.27958484,  0.01586577]])"
      ]
     },
     "execution_count": 77,
     "metadata": {},
     "output_type": "execute_result"
    }
   ],
   "source": [
    "X_train_scaled"
   ]
  },
  {
   "cell_type": "code",
   "execution_count": 78,
   "metadata": {},
   "outputs": [
    {
     "data": {
      "text/plain": [
       "17348    1\n",
       "9465     1\n",
       "8083     1\n",
       "15175    1\n",
       "16452    1\n",
       "7227     1\n",
       "Name: aqi, dtype: int64"
      ]
     },
     "execution_count": 78,
     "metadata": {},
     "output_type": "execute_result"
    }
   ],
   "source": [
    "y_train.sample(6)"
   ]
  },
  {
   "cell_type": "code",
   "execution_count": 79,
   "metadata": {},
   "outputs": [
    {
     "data": {
      "text/plain": [
       "1    10257\n",
       "2     3110\n",
       "3       90\n",
       "4       52\n",
       "5       43\n",
       "Name: aqi, dtype: int64"
      ]
     },
     "execution_count": 79,
     "metadata": {},
     "output_type": "execute_result"
    }
   ],
   "source": [
    "y_train.value_counts()"
   ]
  },
  {
   "cell_type": "code",
   "execution_count": 80,
   "metadata": {},
   "outputs": [
    {
     "data": {
      "text/plain": [
       "1    2587\n",
       "2     767\n",
       "3      17\n",
       "4      15\n",
       "5       3\n",
       "Name: aqi, dtype: int64"
      ]
     },
     "execution_count": 80,
     "metadata": {},
     "output_type": "execute_result"
    }
   ],
   "source": [
    "y_test.value_counts()"
   ]
  },
  {
   "cell_type": "markdown",
   "metadata": {},
   "source": [
    "# Models"
   ]
  },
  {
   "cell_type": "code",
   "execution_count": 101,
   "metadata": {},
   "outputs": [],
   "source": [
    "# Importing the classification models\n",
    "from sklearn.linear_model import LogisticRegression\n",
    "from sklearn.tree import DecisionTreeClassifier\n",
    "from sklearn.ensemble import RandomForestClassifier\n",
    "from sklearn.svm import SVC\n",
    "from sklearn.naive_bayes import GaussianNB\n",
    "from sklearn.neighbors import KNeighborsClassifier\n",
    "from sklearn.ensemble import GradientBoostingClassifier\n",
    "\n",
    "from sklearn.model_selection import KFold, cross_validate\n",
    "\n",
    "# Evaluation metrics\n",
    "from sklearn.metrics import confusion_matrix"
   ]
  },
  {
   "cell_type": "markdown",
   "metadata": {},
   "source": [
    "Through my research, I gained insight into the importance of metrics such as **accuracy, precision, recall, and F1 score** in assessing the effectiveness of classification models. These definitions are my personal impression :\n",
    "\n",
    "* Accuracy: This metric measures the overall correctness of the model's predictions by calculating the proportion of correctly classified instances out of the total number of instances. It's a commonly used metric but can be misleading if the dataset is imbalanced.\n",
    "* Precision: This metric calculates the proportion of true positives (correctly identified positives) out of all the positive predictions made. Precision tells us how confident we can be that the positive predictions are actually correct.\n",
    "* Recall: This metric calculates the proportion of true positives out of all the actual positives in the dataset. Recall tells us how well the model can identify positive instances.\n",
    "* F1 score: This is the harmonic mean of precision and recall, which balances the two metrics. The F1 score is a useful metric to consider when both precision and recall are important, and we want to find a balance between them. The F1 score is calculated as 2 * (precision * recall) / (precision + recall)."
   ]
  },
  {
   "cell_type": "markdown",
   "metadata": {},
   "source": [
    "I created a k-fold cross-validation object with 5 splits and set shuffle to True and random_state to 42. Then, I looped through the models dictionary, and for each model, I used the cross_val_score function to fit and score the model using the k-fold cross-validation object. I printed out the mean and standard deviation of the scores for each model, and appended the model name to the name_list and the mean score to the score_list."
   ]
  },
  {
   "cell_type": "code",
   "execution_count": 82,
   "metadata": {},
   "outputs": [],
   "source": [
    "# create a dictionary of models\n",
    "models = {\n",
    "    'Logistic Regression': LogisticRegression(),\n",
    "    'Decision Tree': DecisionTreeClassifier(),\n",
    "    'Random Forest': RandomForestClassifier(),\n",
    "    'SVM': SVC(),\n",
    "    'Naive Bayes': GaussianNB(),\n",
    "    'KNN': KNeighborsClassifier(),\n",
    "    'Gradient Boosting': GradientBoostingClassifier()\n",
    "}\n",
    "\n",
    "# Create a k-fold cross-validation object\n",
    "k = 5\n",
    "kf = KFold(n_splits=k, shuffle=True, random_state=42)"
   ]
  },
  {
   "cell_type": "code",
   "execution_count": 103,
   "metadata": {},
   "outputs": [],
   "source": [
    "scoring = ('accuracy', 'precision_weighted', 'recall_weighted', 'f1_weighted')"
   ]
  },
  {
   "cell_type": "code",
   "execution_count": 105,
   "metadata": {},
   "outputs": [
    {
     "name": "stdout",
     "output_type": "stream",
     "text": [
      "Logistic Regression\n",
      "-->\n",
      "accuracy --> 0.7770494024873166\n",
      "precision_weighted --> 0.7431242223546124\n",
      "recall_weighted --> 0.7770494024873166\n",
      "f1_weighted --> 0.7226319527132729\n",
      "********************\n",
      "Decision Tree\n",
      "-->\n",
      "accuracy --> 0.8276368645973518\n",
      "precision_weighted --> 0.8285347775356614\n",
      "recall_weighted --> 0.8276368645973518\n",
      "f1_weighted --> 0.8279641840157304\n",
      "********************\n",
      "Random Forest\n",
      "-->\n",
      "accuracy --> 0.8857798495932565\n",
      "precision_weighted --> 0.8809309385790757\n",
      "recall_weighted --> 0.8857798495932565\n",
      "f1_weighted --> 0.8781802985675442\n",
      "********************\n",
      "SVM\n",
      "-->\n",
      "accuracy --> 0.8034346310359617\n",
      "precision_weighted --> 0.7791678437266024\n",
      "recall_weighted --> 0.8034346310359617\n",
      "f1_weighted --> 0.7718846651288664\n",
      "********************\n",
      "Naive Bayes\n",
      "-->\n",
      "accuracy --> 0.18405024520263663\n",
      "precision_weighted --> 0.7326545780141218\n",
      "recall_weighted --> 0.18405024520263663\n",
      "f1_weighted --> 0.28597921896683354\n",
      "********************\n",
      "KNN\n",
      "-->\n",
      "accuracy --> 0.8591575877648465\n",
      "precision_weighted --> 0.8494399657518878\n",
      "recall_weighted --> 0.8591575877648465\n",
      "f1_weighted --> 0.8511763957987458\n",
      "********************\n",
      "Gradient Boosting\n",
      "-->\n",
      "accuracy --> 0.8193722450193922\n",
      "precision_weighted --> 0.8026405826463492\n",
      "recall_weighted --> 0.8193722450193922\n",
      "f1_weighted --> 0.8006869206862444\n",
      "********************\n"
     ]
    }
   ],
   "source": [
    "for name, model in models.items():\n",
    "    scores = cross_validate(model, X_scaled, y, cv=kf, scoring=scoring)\n",
    "    print(name)\n",
    "    print(\"-->\")\n",
    "    print(f\"accuracy --> {scores['test_accuracy'].mean()}\")\n",
    "    print(f\"precision_weighted --> {scores['test_precision_weighted'].mean()}\")\n",
    "    print(f\"recall_weighted --> {scores['test_recall_weighted'].mean()}\")\n",
    "    print(f\"f1_weighted --> {scores['test_f1_weighted'].mean()}\")\n",
    "\n",
    "    print(20*\"*\")\n",
    "\n"
   ]
  },
  {
   "cell_type": "code",
   "execution_count": 106,
   "metadata": {
    "scrolled": true
   },
   "outputs": [
    {
     "name": "stdout",
     "output_type": "stream",
     "text": [
      "******************************\n",
      "Logistic Regression\n",
      "[[2511   76    0    0    0]\n",
      " [ 621  146    0    0    0]\n",
      " [  17    0    0    0    0]\n",
      " [  15    0    0    0    0]\n",
      " [   3    0    0    0    0]]\n",
      "******************************\n",
      "Decision Tree\n",
      "[[2319  242    7    5   14]\n",
      " [ 260  489   15    3    0]\n",
      " [   6    5    5    1    0]\n",
      " [   4    1    5    5    0]\n",
      " [   2    1    0    0    0]]\n",
      "******************************\n",
      "Random Forest\n",
      "[[2493   93    0    0    1]\n",
      " [ 249  518    0    0    0]\n",
      " [   7   10    0    0    0]\n",
      " [   8    2    3    2    0]\n",
      " [   3    0    0    0    0]]\n",
      "******************************\n",
      "SVM\n",
      "[[2485  102    0    0    0]\n",
      " [ 482  285    0    0    0]\n",
      " [  15    2    0    0    0]\n",
      " [  14    1    0    0    0]\n",
      " [   3    0    0    0    0]]\n",
      "******************************\n",
      "Naive Bayes\n",
      "[[ 511  124    0 1766  186]\n",
      " [ 107  112    0  503   45]\n",
      " [   0    0    0   15    2]\n",
      " [   0    0    0   13    2]\n",
      " [   0    0    0    0    3]]\n",
      "******************************\n",
      "KNN\n",
      "[[2446  137    1    1    2]\n",
      " [ 266  499    1    0    1]\n",
      " [   9    7    1    0    0]\n",
      " [   6    4    0    5    0]\n",
      " [   2    0    0    0    1]]\n",
      "******************************\n",
      "Gradient Boosting\n",
      "[[2457  129    0    1    0]\n",
      " [ 396  369    2    0    0]\n",
      " [  13    3    0    1    0]\n",
      " [  10    2    2    1    0]\n",
      " [   3    0    0    0    0]]\n"
     ]
    }
   ],
   "source": [
    "for name, model in models.items():\n",
    "    ml_obj = model\n",
    "    ml_obj.fit(X_train_scaled, y_train)\n",
    "    \n",
    "    y_pred = ml_obj.predict(X_test_scaled)\n",
    "\n",
    "    print(3*\"**********\")\n",
    "    print(name)\n",
    "    print(confusion_matrix(y_test, y_pred))\n",
    "    "
   ]
  },
  {
   "cell_type": "markdown",
   "metadata": {},
   "source": [
    "Based on the results, the best model seems to be Random Forest, with an **accuracy of 0.886** and a weighted **f1-score of 0.878**. It also has the highest **precision weighted score of 0.881**, which means that it has the highest percentage of correct positive predictions among all models. The confusion matrix of Random Forest model shows that it correctly predicted most of the instances, with only a few misclassifications."
   ]
  },
  {
   "cell_type": "markdown",
   "metadata": {},
   "source": [
    "## Future Improvement\n",
    "\n",
    "Balancing labels can be mentioned as the things that can be done in this project in the future. It is also possible to increase the number of dataset features and improve traffic and weather data. It is also possible to use the data of resources and industry and the working process of factories if available."
   ]
  },
  {
   "cell_type": "markdown",
   "metadata": {},
   "source": [
    "\n"
   ]
  },
  {
   "cell_type": "code",
   "execution_count": null,
   "metadata": {},
   "outputs": [],
   "source": []
  },
  {
   "cell_type": "code",
   "execution_count": null,
   "metadata": {},
   "outputs": [],
   "source": []
  }
 ],
 "metadata": {
  "colab": {
   "provenance": []
  },
  "kernelspec": {
   "display_name": "Python 3 (ipykernel)",
   "language": "python",
   "name": "python3"
  },
  "language_info": {
   "codemirror_mode": {
    "name": "ipython",
    "version": 3
   },
   "file_extension": ".py",
   "mimetype": "text/x-python",
   "name": "python",
   "nbconvert_exporter": "python",
   "pygments_lexer": "ipython3",
   "version": "3.9.12"
  },
  "vscode": {
   "interpreter": {
    "hash": "341e0318612e13d2caac249865d6880347062171b89016abd70f7ef667022a97"
   }
  }
 },
 "nbformat": 4,
 "nbformat_minor": 1
}
